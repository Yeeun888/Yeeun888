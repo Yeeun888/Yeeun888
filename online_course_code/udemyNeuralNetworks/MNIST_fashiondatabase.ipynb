{
 "cells": [
  {
   "cell_type": "code",
   "execution_count": 1,
   "metadata": {},
   "outputs": [],
   "source": [
    "import numpy as np\n",
    "import pandas as pd\n",
    "import matplotlib as mpl\n",
    "import matplotlib.pyplot as plt"
   ]
  },
  {
   "cell_type": "code",
   "execution_count": 2,
   "metadata": {},
   "outputs": [],
   "source": [
    "import tensorflow as tf\n",
    "from tensorflow import keras"
   ]
  },
  {
   "cell_type": "code",
   "execution_count": 3,
   "metadata": {},
   "outputs": [
    {
     "name": "stdout",
     "output_type": "stream",
     "text": [
      "2.9.0\n",
      "2.9.1\n"
     ]
    }
   ],
   "source": [
    "print(keras.__version__)\n",
    "print(tf.__version__)"
   ]
  },
  {
   "cell_type": "code",
   "execution_count": 4,
   "metadata": {},
   "outputs": [],
   "source": [
    "fashion_mnist = keras.datasets.fashion_mnist\n",
    "(X_train_full, y_train_full), (X_test, y_test) = fashion_mnist.load_data()"
   ]
  },
  {
   "cell_type": "code",
   "execution_count": 5,
   "metadata": {},
   "outputs": [
    {
     "data": {
      "text/plain": [
       "<matplotlib.image.AxesImage at 0x1aec7526320>"
      ]
     },
     "execution_count": 5,
     "metadata": {},
     "output_type": "execute_result"
    },
    {
     "data": {
      "image/png": "[encoded data removed]",
      "text/plain": [
       "<Figure size 432x288 with 1 Axes>"
      ]
     },
     "metadata": {
      "needs_background": "light"
     },
     "output_type": "display_data"
    }
   ],
   "source": [
    "plt.imshow(X_train_full[0])"
   ]
  },
  {
   "cell_type": "code",
   "execution_count": 6,
   "metadata": {},
   "outputs": [
    {
     "data": {
      "text/plain": [
       "0"
      ]
     },
     "execution_count": 6,
     "metadata": {},
     "output_type": "execute_result"
    }
   ],
   "source": [
    "y_train_full[1]"
   ]
  },
  {
   "cell_type": "markdown",
   "metadata": {},
   "source": [
    "    Label \tDescription\n",
    "    0 \tT-shirt/top\n",
    "    1 \tTrouser\n",
    "    2 \tPullover\n",
    "    3 \tDress\n",
    "    4 \tCoat\n",
    "    5 \tSandal\n",
    "    6 \tShirt\n",
    "    7 \tSneaker\n",
    "    8 \tBag\n",
    "    9 \tAnkle boot"
   ]
  },
  {
   "cell_type": "code",
   "execution_count": 7,
   "metadata": {},
   "outputs": [],
   "source": [
    "class_name = [\"T-shirt/top\", \"Trouser\", \"Pullover\", \"Dress\", \"Coat\", \"Sandal\", \"Shirt\", \"Sneaker\", \"Bag\", \"Ankle boot\"]"
   ]
  },
  {
   "cell_type": "code",
   "execution_count": 8,
   "metadata": {},
   "outputs": [
    {
     "data": {
      "text/plain": [
       "'Ankle boot'"
      ]
     },
     "execution_count": 8,
     "metadata": {},
     "output_type": "execute_result"
    }
   ],
   "source": [
    "class_name[y_train_full[0]]"
   ]
  },
  {
   "cell_type": "code",
   "execution_count": 9,
   "metadata": {},
   "outputs": [],
   "source": [
    "#Random code I wrote to inspect the contents of y_train_full\n",
    "\n",
    "from IPython.display import clear_output\n",
    "\n",
    "def callRecurrsion(i):\n",
    "    \n",
    "    if i >= 0:\n",
    "        print(y_train_full[i])\n",
    "\n",
    "    else:\n",
    "        return 0\n",
    "\n",
    "    return callRecurrsion(i-1)\n",
    "\n",
    "#callRecurrsion(59999)\n",
    "clear_output()\n"
   ]
  },
  {
   "cell_type": "code",
   "execution_count": 10,
   "metadata": {},
   "outputs": [
    {
     "name": "stdout",
     "output_type": "stream",
     "text": [
      "Dress\n"
     ]
    },
    {
     "data": {
      "text/plain": [
       "<matplotlib.image.AxesImage at 0x1aecfa396f0>"
      ]
     },
     "execution_count": 10,
     "metadata": {},
     "output_type": "execute_result"
    },
    {
     "data": {
      "image/png": "[encoded data removed]",
      "text/plain": [
       "<Figure size 432x288 with 1 Axes>"
      ]
     },
     "metadata": {
      "needs_background": "light"
     },
     "output_type": "display_data"
    }
   ],
   "source": [
    "#print images and type together\n",
    "\n",
    "n = 3\n",
    "\n",
    "print(class_name[y_train_full[n]])\n",
    "plt.imshow(X_train_full[n])"
   ]
  },
  {
   "cell_type": "code",
   "execution_count": 11,
   "metadata": {},
   "outputs": [
    {
     "data": {
      "text/plain": [
       "array([[  0,   0,   0,   0,   0,   0,   0,   0,   0,   0,   0,   0,   0,\n",
       "          0,   0,   0,   0,   0,   0,   0,   0,   0,   0,   0,   0,   0,\n",
       "          0,   0],\n",
       "       [  0,   0,   0,   0,   0,   0,   0,   0,   0,   0,   0,   0,   0,\n",
       "          0,   0,   0,   0,   0,   0,   0,   0,   0,   0,   0,   0,   0,\n",
       "          0,   0],\n",
       "       [  0,   0,   0,   0,   0,   0,   0,   0,   0,   0,   0,   0,   0,\n",
       "          0,   0,   0,   0,   0,   0,   0,   0,   0,   0,   0,   0,   0,\n",
       "          0,   0],\n",
       "       [  0,   0,   0,   0,   0,   0,   0,   0,   0,   0,   0,   0,   1,\n",
       "          0,   0,  13,  73,   0,   0,   1,   4,   0,   0,   0,   0,   1,\n",
       "          1,   0],\n",
       "       [  0,   0,   0,   0,   0,   0,   0,   0,   0,   0,   0,   0,   3,\n",
       "          0,  36, 136, 127,  62,  54,   0,   0,   0,   1,   3,   4,   0,\n",
       "          0,   3],\n",
       "       [  0,   0,   0,   0,   0,   0,   0,   0,   0,   0,   0,   0,   6,\n",
       "          0, 102, 204, 176, 134, 144, 123,  23,   0,   0,   0,   0,  12,\n",
       "         10,   0],\n",
       "       [  0,   0,   0,   0,   0,   0,   0,   0,   0,   0,   0,   0,   0,\n",
       "          0, 155, 236, 207, 178, 107, 156, 161, 109,  64,  23,  77, 130,\n",
       "         72,  15],\n",
       "       [  0,   0,   0,   0,   0,   0,   0,   0,   0,   0,   0,   1,   0,\n",
       "         69, 207, 223, 218, 216, 216, 163, 127, 121, 122, 146, 141,  88,\n",
       "        172,  66],\n",
       "       [  0,   0,   0,   0,   0,   0,   0,   0,   0,   1,   1,   1,   0,\n",
       "        200, 232, 232, 233, 229, 223, 223, 215, 213, 164, 127, 123, 196,\n",
       "        229,   0],\n",
       "       [  0,   0,   0,   0,   0,   0,   0,   0,   0,   0,   0,   0,   0,\n",
       "        183, 225, 216, 223, 228, 235, 227, 224, 222, 224, 221, 223, 245,\n",
       "        173,   0],\n",
       "       [  0,   0,   0,   0,   0,   0,   0,   0,   0,   0,   0,   0,   0,\n",
       "        193, 228, 218, 213, 198, 180, 212, 210, 211, 213, 223, 220, 243,\n",
       "        202,   0],\n",
       "       [  0,   0,   0,   0,   0,   0,   0,   0,   0,   1,   3,   0,  12,\n",
       "        219, 220, 212, 218, 192, 169, 227, 208, 218, 224, 212, 226, 197,\n",
       "        209,  52],\n",
       "       [  0,   0,   0,   0,   0,   0,   0,   0,   0,   0,   6,   0,  99,\n",
       "        244, 222, 220, 218, 203, 198, 221, 215, 213, 222, 220, 245, 119,\n",
       "        167,  56],\n",
       "       [  0,   0,   0,   0,   0,   0,   0,   0,   0,   4,   0,   0,  55,\n",
       "        236, 228, 230, 228, 240, 232, 213, 218, 223, 234, 217, 217, 209,\n",
       "         92,   0],\n",
       "       [  0,   0,   1,   4,   6,   7,   2,   0,   0,   0,   0,   0, 237,\n",
       "        226, 217, 223, 222, 219, 222, 221, 216, 223, 229, 215, 218, 255,\n",
       "         77,   0],\n",
       "       [  0,   3,   0,   0,   0,   0,   0,   0,   0,  62, 145, 204, 228,\n",
       "        207, 213, 221, 218, 208, 211, 218, 224, 223, 219, 215, 224, 244,\n",
       "        159,   0],\n",
       "       [  0,   0,   0,   0,  18,  44,  82, 107, 189, 228, 220, 222, 217,\n",
       "        226, 200, 205, 211, 230, 224, 234, 176, 188, 250, 248, 233, 238,\n",
       "        215,   0],\n",
       "       [  0,  57, 187, 208, 224, 221, 224, 208, 204, 214, 208, 209, 200,\n",
       "        159, 245, 193, 206, 223, 255, 255, 221, 234, 221, 211, 220, 232,\n",
       "        246,   0],\n",
       "       [  3, 202, 228, 224, 221, 211, 211, 214, 205, 205, 205, 220, 240,\n",
       "         80, 150, 255, 229, 221, 188, 154, 191, 210, 204, 209, 222, 228,\n",
       "        225,   0],\n",
       "       [ 98, 233, 198, 210, 222, 229, 229, 234, 249, 220, 194, 215, 217,\n",
       "        241,  65,  73, 106, 117, 168, 219, 221, 215, 217, 223, 223, 224,\n",
       "        229,  29],\n",
       "       [ 75, 204, 212, 204, 193, 205, 211, 225, 216, 185, 197, 206, 198,\n",
       "        213, 240, 195, 227, 245, 239, 223, 218, 212, 209, 222, 220, 221,\n",
       "        230,  67],\n",
       "       [ 48, 203, 183, 194, 213, 197, 185, 190, 194, 192, 202, 214, 219,\n",
       "        221, 220, 236, 225, 216, 199, 206, 186, 181, 177, 172, 181, 205,\n",
       "        206, 115],\n",
       "       [  0, 122, 219, 193, 179, 171, 183, 196, 204, 210, 213, 207, 211,\n",
       "        210, 200, 196, 194, 191, 195, 191, 198, 192, 176, 156, 167, 177,\n",
       "        210,  92],\n",
       "       [  0,   0,  74, 189, 212, 191, 175, 172, 175, 181, 185, 188, 189,\n",
       "        188, 193, 198, 204, 209, 210, 210, 211, 188, 188, 194, 192, 216,\n",
       "        170,   0],\n",
       "       [  2,   0,   0,   0,  66, 200, 222, 237, 239, 242, 246, 243, 244,\n",
       "        221, 220, 193, 191, 179, 182, 182, 181, 176, 166, 168,  99,  58,\n",
       "          0,   0],\n",
       "       [  0,   0,   0,   0,   0,   0,   0,  40,  61,  44,  72,  41,  35,\n",
       "          0,   0,   0,   0,   0,   0,   0,   0,   0,   0,   0,   0,   0,\n",
       "          0,   0],\n",
       "       [  0,   0,   0,   0,   0,   0,   0,   0,   0,   0,   0,   0,   0,\n",
       "          0,   0,   0,   0,   0,   0,   0,   0,   0,   0,   0,   0,   0,\n",
       "          0,   0],\n",
       "       [  0,   0,   0,   0,   0,   0,   0,   0,   0,   0,   0,   0,   0,\n",
       "          0,   0,   0,   0,   0,   0,   0,   0,   0,   0,   0,   0,   0,\n",
       "          0,   0]], dtype=uint8)"
      ]
     },
     "execution_count": 11,
     "metadata": {},
     "output_type": "execute_result"
    }
   ],
   "source": [
    "#To see numerical pixel values\n",
    "X_train_full[0]"
   ]
  },
  {
   "cell_type": "markdown",
   "metadata": {},
   "source": [
    "Data Normalization \n",
    "\n",
    "Putting all the data into a scale of 0-1 for easy understanding. "
   ]
  },
  {
   "cell_type": "code",
   "execution_count": 12,
   "metadata": {},
   "outputs": [],
   "source": [
    "X_train_n = X_train_full / 255.0 #Noramlized full trainig dataset\n",
    "X_test_n = X_test/ 255.0 #"
   ]
  },
  {
   "cell_type": "markdown",
   "metadata": {},
   "source": [
    "        Split Data into training, validation, and testing. \n",
    "\n",
    "        Training - Establish a ground for weight and biases\n",
    "        Validation - Tuning hyperparameters more accurately\n",
    "        Testing - An actual graded test to see if that model performed accordingly\n"
   ]
  },
  {
   "cell_type": "code",
   "execution_count": 13,
   "metadata": {},
   "outputs": [],
   "source": [
    "X_train, X_valid = X_train_n[5000:], X_train_n[:5000]\n",
    "Y_train, Y_valid = y_train_full[5000:], y_train_full[:5000]\n",
    "\n",
    "#X_test = X_test_n tbh I find this line redundant and I'm not quite sure if the original dataset gets changed. For that reason continue\n",
    "#using X_test_n for testing instead. "
   ]
  },
  {
   "cell_type": "markdown",
   "metadata": {},
   "source": [
    "Learning to create neural network models:\n",
    "* Sequential Model\n",
    "* Functional API"
   ]
  },
  {
   "cell_type": "code",
   "execution_count": 14,
   "metadata": {},
   "outputs": [],
   "source": [
    "#Break to Load Model"
   ]
  },
  {
   "cell_type": "code",
   "execution_count": 15,
   "metadata": {},
   "outputs": [],
   "source": [
    "model = keras.models.Sequential()\n",
    "model.add(keras.layers.Flatten(input_shape=[28,28]))\n",
    "model.add(keras.layers.Dense(300, activation = \"relu\"))\n",
    "model.add(keras.layers.Dense(100, activation = \"relu\"))\n",
    "model.add(keras.layers.Dense(10, activation = \"softmax\"))"
   ]
  },
  {
   "cell_type": "code",
   "execution_count": 16,
   "metadata": {},
   "outputs": [
    {
     "name": "stdout",
     "output_type": "stream",
     "text": [
      "Model: \"sequential\"\n",
      "_________________________________________________________________\n",
      " Layer (type)                Output Shape              Param #   \n",
      "=================================================================\n",
      " flatten (Flatten)           (None, 784)               0         \n",
      "                                                                 \n",
      " dense (Dense)               (None, 300)               235500    \n",
      "                                                                 \n",
      " dense_1 (Dense)             (None, 100)               30100     \n",
      "                                                                 \n",
      " dense_2 (Dense)             (None, 10)                1010      \n",
      "                                                                 \n",
      "=================================================================\n",
      "Total params: 266,610\n",
      "Trainable params: 266,610\n",
      "Non-trainable params: 0\n",
      "_________________________________________________________________\n"
     ]
    }
   ],
   "source": [
    "model.summary()"
   ]
  },
  {
   "cell_type": "code",
   "execution_count": 17,
   "metadata": {},
   "outputs": [
    {
     "name": "stdout",
     "output_type": "stream",
     "text": [
      "You must install pydot (`pip install pydot`) and install graphviz (see instructions at https://graphviz.gitlab.io/download/) for plot_model/model_to_dot to work.\n"
     ]
    }
   ],
   "source": [
    "import pydot #Neural Network Visualization\n",
    "keras.utils.plot_model(model)"
   ]
  },
  {
   "cell_type": "code",
   "execution_count": 18,
   "metadata": {},
   "outputs": [],
   "source": [
    "weights, biases  = model.layers[1].get_weights() #The number specifies which layer the weights are received from\n",
    "\n",
    "#In this case the second [from the top] layer which is Dense (bcs python is 0 index)"
   ]
  },
  {
   "cell_type": "code",
   "execution_count": 19,
   "metadata": {},
   "outputs": [
    {
     "data": {
      "text/plain": [
       "array([[ 0.02095098, -0.03537794, -0.05152591, ..., -0.04581601,\n",
       "         0.04210117,  0.03497004],\n",
       "       [ 0.02157398, -0.02329314, -0.02980422, ..., -0.06191863,\n",
       "         0.00427445,  0.0424165 ],\n",
       "       [ 0.06747918, -0.0448298 ,  0.02154455, ...,  0.00985073,\n",
       "        -0.03394065,  0.00535137],\n",
       "       ...,\n",
       "       [ 0.00781202,  0.06601195,  0.06286235, ...,  0.07117523,\n",
       "        -0.03996569, -0.06501906],\n",
       "       [ 0.03022704, -0.06620851,  0.0250944 , ...,  0.02210411,\n",
       "         0.00632456,  0.00322063],\n",
       "       [ 0.06454608,  0.00879622, -0.04788382, ..., -0.001623  ,\n",
       "         0.07412839, -0.02800736]], dtype=float32)"
      ]
     },
     "execution_count": 19,
     "metadata": {},
     "output_type": "execute_result"
    }
   ],
   "source": [
    "weights"
   ]
  },
  {
   "cell_type": "code",
   "execution_count": 20,
   "metadata": {},
   "outputs": [
    {
     "data": {
      "text/plain": [
       "(784, 300)"
      ]
     },
     "execution_count": 20,
     "metadata": {},
     "output_type": "execute_result"
    }
   ],
   "source": [
    "weights.shape"
   ]
  },
  {
   "cell_type": "code",
   "execution_count": 21,
   "metadata": {},
   "outputs": [
    {
     "data": {
      "text/plain": [
       "array([0., 0., 0., 0., 0., 0., 0., 0., 0., 0., 0., 0., 0., 0., 0., 0., 0.,\n",
       "       0., 0., 0., 0., 0., 0., 0., 0., 0., 0., 0., 0., 0., 0., 0., 0., 0.,\n",
       "       0., 0., 0., 0., 0., 0., 0., 0., 0., 0., 0., 0., 0., 0., 0., 0., 0.,\n",
       "       0., 0., 0., 0., 0., 0., 0., 0., 0., 0., 0., 0., 0., 0., 0., 0., 0.,\n",
       "       0., 0., 0., 0., 0., 0., 0., 0., 0., 0., 0., 0., 0., 0., 0., 0., 0.,\n",
       "       0., 0., 0., 0., 0., 0., 0., 0., 0., 0., 0., 0., 0., 0., 0., 0., 0.,\n",
       "       0., 0., 0., 0., 0., 0., 0., 0., 0., 0., 0., 0., 0., 0., 0., 0., 0.,\n",
       "       0., 0., 0., 0., 0., 0., 0., 0., 0., 0., 0., 0., 0., 0., 0., 0., 0.,\n",
       "       0., 0., 0., 0., 0., 0., 0., 0., 0., 0., 0., 0., 0., 0., 0., 0., 0.,\n",
       "       0., 0., 0., 0., 0., 0., 0., 0., 0., 0., 0., 0., 0., 0., 0., 0., 0.,\n",
       "       0., 0., 0., 0., 0., 0., 0., 0., 0., 0., 0., 0., 0., 0., 0., 0., 0.,\n",
       "       0., 0., 0., 0., 0., 0., 0., 0., 0., 0., 0., 0., 0., 0., 0., 0., 0.,\n",
       "       0., 0., 0., 0., 0., 0., 0., 0., 0., 0., 0., 0., 0., 0., 0., 0., 0.,\n",
       "       0., 0., 0., 0., 0., 0., 0., 0., 0., 0., 0., 0., 0., 0., 0., 0., 0.,\n",
       "       0., 0., 0., 0., 0., 0., 0., 0., 0., 0., 0., 0., 0., 0., 0., 0., 0.,\n",
       "       0., 0., 0., 0., 0., 0., 0., 0., 0., 0., 0., 0., 0., 0., 0., 0., 0.,\n",
       "       0., 0., 0., 0., 0., 0., 0., 0., 0., 0., 0., 0., 0., 0., 0., 0., 0.,\n",
       "       0., 0., 0., 0., 0., 0., 0., 0., 0., 0., 0.], dtype=float32)"
      ]
     },
     "execution_count": 21,
     "metadata": {},
     "output_type": "execute_result"
    }
   ],
   "source": [
    "biases #All start at zero"
   ]
  },
  {
   "cell_type": "code",
   "execution_count": 22,
   "metadata": {},
   "outputs": [
    {
     "name": "stdout",
     "output_type": "stream",
     "text": [
      "flatten\n",
      "[]\n",
      "dense\n",
      "[array([[ 0.02095098, -0.03537794, -0.05152591, ..., -0.04581601,\n",
      "         0.04210117,  0.03497004],\n",
      "       [ 0.02157398, -0.02329314, -0.02980422, ..., -0.06191863,\n",
      "         0.00427445,  0.0424165 ],\n",
      "       [ 0.06747918, -0.0448298 ,  0.02154455, ...,  0.00985073,\n",
      "        -0.03394065,  0.00535137],\n",
      "       ...,\n",
      "       [ 0.00781202,  0.06601195,  0.06286235, ...,  0.07117523,\n",
      "        -0.03996569, -0.06501906],\n",
      "       [ 0.03022704, -0.06620851,  0.0250944 , ...,  0.02210411,\n",
      "         0.00632456,  0.00322063],\n",
      "       [ 0.06454608,  0.00879622, -0.04788382, ..., -0.001623  ,\n",
      "         0.07412839, -0.02800736]], dtype=float32), array([0., 0., 0., 0., 0., 0., 0., 0., 0., 0., 0., 0., 0., 0., 0., 0., 0.,\n",
      "       0., 0., 0., 0., 0., 0., 0., 0., 0., 0., 0., 0., 0., 0., 0., 0., 0.,\n",
      "       0., 0., 0., 0., 0., 0., 0., 0., 0., 0., 0., 0., 0., 0., 0., 0., 0.,\n",
      "       0., 0., 0., 0., 0., 0., 0., 0., 0., 0., 0., 0., 0., 0., 0., 0., 0.,\n",
      "       0., 0., 0., 0., 0., 0., 0., 0., 0., 0., 0., 0., 0., 0., 0., 0., 0.,\n",
      "       0., 0., 0., 0., 0., 0., 0., 0., 0., 0., 0., 0., 0., 0., 0., 0., 0.,\n",
      "       0., 0., 0., 0., 0., 0., 0., 0., 0., 0., 0., 0., 0., 0., 0., 0., 0.,\n",
      "       0., 0., 0., 0., 0., 0., 0., 0., 0., 0., 0., 0., 0., 0., 0., 0., 0.,\n",
      "       0., 0., 0., 0., 0., 0., 0., 0., 0., 0., 0., 0., 0., 0., 0., 0., 0.,\n",
      "       0., 0., 0., 0., 0., 0., 0., 0., 0., 0., 0., 0., 0., 0., 0., 0., 0.,\n",
      "       0., 0., 0., 0., 0., 0., 0., 0., 0., 0., 0., 0., 0., 0., 0., 0., 0.,\n",
      "       0., 0., 0., 0., 0., 0., 0., 0., 0., 0., 0., 0., 0., 0., 0., 0., 0.,\n",
      "       0., 0., 0., 0., 0., 0., 0., 0., 0., 0., 0., 0., 0., 0., 0., 0., 0.,\n",
      "       0., 0., 0., 0., 0., 0., 0., 0., 0., 0., 0., 0., 0., 0., 0., 0., 0.,\n",
      "       0., 0., 0., 0., 0., 0., 0., 0., 0., 0., 0., 0., 0., 0., 0., 0., 0.,\n",
      "       0., 0., 0., 0., 0., 0., 0., 0., 0., 0., 0., 0., 0., 0., 0., 0., 0.,\n",
      "       0., 0., 0., 0., 0., 0., 0., 0., 0., 0., 0., 0., 0., 0., 0., 0., 0.,\n",
      "       0., 0., 0., 0., 0., 0., 0., 0., 0., 0., 0.], dtype=float32)]\n",
      "dense_1\n",
      "[array([[-0.05061816, -0.08534758,  0.0539364 , ..., -0.06104335,\n",
      "         0.04188175,  0.0282188 ],\n",
      "       [-0.11920401,  0.05643778, -0.04756323, ...,  0.051418  ,\n",
      "         0.04903623,  0.10029816],\n",
      "       [-0.08500953, -0.11302215, -0.10744246, ..., -0.04476182,\n",
      "        -0.07747436,  0.10184685],\n",
      "       ...,\n",
      "       [ 0.05538893, -0.04463094,  0.11899029, ..., -0.07071124,\n",
      "        -0.07947043, -0.07741059],\n",
      "       [-0.020179  ,  0.08369494, -0.11626781, ..., -0.10961177,\n",
      "        -0.04971794,  0.03135584],\n",
      "       [ 0.11205048, -0.04614095, -0.1066615 , ..., -0.0663167 ,\n",
      "         0.02526022,  0.0107026 ]], dtype=float32), array([0., 0., 0., 0., 0., 0., 0., 0., 0., 0., 0., 0., 0., 0., 0., 0., 0.,\n",
      "       0., 0., 0., 0., 0., 0., 0., 0., 0., 0., 0., 0., 0., 0., 0., 0., 0.,\n",
      "       0., 0., 0., 0., 0., 0., 0., 0., 0., 0., 0., 0., 0., 0., 0., 0., 0.,\n",
      "       0., 0., 0., 0., 0., 0., 0., 0., 0., 0., 0., 0., 0., 0., 0., 0., 0.,\n",
      "       0., 0., 0., 0., 0., 0., 0., 0., 0., 0., 0., 0., 0., 0., 0., 0., 0.,\n",
      "       0., 0., 0., 0., 0., 0., 0., 0., 0., 0., 0., 0., 0., 0., 0.],\n",
      "      dtype=float32)]\n",
      "dense_2\n",
      "[array([[-1.02985501e-01, -1.30745992e-01,  1.69663280e-01,\n",
      "        -1.38062075e-01, -1.75798446e-01, -6.15375489e-02,\n",
      "         4.74602580e-02,  1.21254444e-01, -1.65464416e-01,\n",
      "        -1.50668770e-02],\n",
      "       [-6.21373057e-02, -2.18844414e-01,  1.71115875e-01,\n",
      "         4.93155122e-02,  1.31928027e-01,  6.17656708e-02,\n",
      "         2.24742025e-01,  9.19805467e-02, -1.75762743e-01,\n",
      "         1.85701907e-01],\n",
      "       [-3.27266604e-02,  1.67617828e-01, -3.67531180e-02,\n",
      "         1.79883540e-01,  1.95956260e-01,  8.42511654e-05,\n",
      "        -1.10714905e-01, -2.01535821e-01, -1.74309090e-01,\n",
      "         1.35172367e-01],\n",
      "       [ 1.36462659e-01,  2.19088346e-01,  8.17101300e-02,\n",
      "        -1.51216865e-01, -2.51107365e-02, -1.70407355e-01,\n",
      "         9.19754207e-02,  1.78060055e-01,  1.74786121e-01,\n",
      "        -1.46105915e-01],\n",
      "       [-1.64683461e-01, -2.86080390e-02, -9.58464891e-02,\n",
      "         4.63680029e-02, -7.61422515e-02, -1.67187244e-01,\n",
      "         4.23099101e-03,  2.22567797e-01, -3.08949798e-02,\n",
      "        -1.55001104e-01],\n",
      "       [ 1.89318836e-01,  4.03719246e-02,  2.12443203e-01,\n",
      "         1.23489887e-01, -2.02707052e-01,  2.21785307e-02,\n",
      "        -4.17536497e-03, -6.84214830e-02,  1.68635100e-01,\n",
      "        -2.07078740e-01],\n",
      "       [ 1.70925945e-01, -1.42839253e-01, -1.71091527e-01,\n",
      "        -1.28463656e-02,  1.45047665e-01,  8.69161189e-02,\n",
      "         2.16473937e-02, -2.05518633e-01,  1.36335135e-01,\n",
      "        -1.25264764e-01],\n",
      "       [ 2.22837359e-01, -9.78748351e-02, -2.19219476e-02,\n",
      "        -1.14070170e-01,  2.28805184e-01, -1.37400776e-01,\n",
      "        -1.72985524e-01,  1.64721221e-01,  1.68027103e-01,\n",
      "        -9.25895572e-03],\n",
      "       [ 1.18692786e-01,  5.18727303e-03,  1.83846086e-01,\n",
      "        -1.09054789e-01, -1.13414288e-01, -2.19723314e-01,\n",
      "         2.05554098e-01,  4.82497811e-02,  2.31610864e-01,\n",
      "        -1.87379360e-01],\n",
      "       [ 2.53217518e-02, -1.97719336e-02, -1.15645379e-01,\n",
      "         1.93153322e-02, -3.16797644e-02,  7.61128068e-02,\n",
      "        -9.82099324e-02, -1.01536691e-01,  1.80901408e-01,\n",
      "        -2.18752712e-01],\n",
      "       [-1.00106433e-01, -4.62655723e-03,  2.30687201e-01,\n",
      "        -8.22618902e-02, -3.02547365e-02, -6.58961087e-02,\n",
      "         2.16169029e-01,  1.26360536e-01,  1.25403315e-01,\n",
      "        -5.11458516e-02],\n",
      "       [-8.73514414e-02,  8.46822858e-02,  2.09795117e-01,\n",
      "         1.20213628e-01, -1.03643999e-01, -1.98182896e-01,\n",
      "         4.95190322e-02, -1.36234462e-01, -5.78649491e-02,\n",
      "         8.14826190e-02],\n",
      "       [-1.49716660e-01, -1.33534253e-01,  6.36869073e-02,\n",
      "         1.36763006e-01, -1.43498361e-01,  2.20220834e-01,\n",
      "         1.33133173e-01,  1.23185962e-02,  1.70265257e-01,\n",
      "         2.03331143e-01],\n",
      "       [-2.16836929e-02,  3.46047282e-02,  8.85294080e-02,\n",
      "         2.28031754e-01,  2.32489198e-01,  1.16106600e-01,\n",
      "        -2.21245885e-02,  2.02794969e-02, -2.02670678e-01,\n",
      "        -6.09605163e-02],\n",
      "       [-1.63577288e-01, -1.38093978e-02,  2.27183938e-01,\n",
      "        -4.43925560e-02, -3.95424366e-02, -6.78606927e-02,\n",
      "         4.97335196e-02,  1.75861031e-01,  1.66609913e-01,\n",
      "        -9.79396552e-02],\n",
      "       [-1.60861135e-01, -5.72074503e-02, -5.55404276e-02,\n",
      "        -6.00716025e-02,  1.00884318e-01,  7.40852356e-02,\n",
      "         8.10258389e-02,  1.05001181e-02,  3.42173874e-02,\n",
      "         1.52650177e-01],\n",
      "       [-8.21216255e-02, -1.05615780e-01,  1.87374502e-01,\n",
      "         1.32305712e-01, -1.89074844e-01, -2.20689073e-01,\n",
      "         4.45187390e-02, -1.18962832e-01, -4.82761860e-02,\n",
      "        -1.39377117e-01],\n",
      "       [-2.14114740e-01,  6.01978898e-02,  4.22956049e-02,\n",
      "        -8.64315629e-02, -1.83049753e-01, -2.30363905e-02,\n",
      "         1.62048638e-02,  2.31282890e-01,  2.07142264e-01,\n",
      "        -1.32356882e-01],\n",
      "       [-1.12836078e-01,  1.80094838e-01, -1.99665442e-01,\n",
      "         2.85533667e-02,  9.69745517e-02,  1.69733763e-02,\n",
      "        -1.12567522e-01,  2.23663807e-01,  2.02127337e-01,\n",
      "        -4.33936119e-02],\n",
      "       [ 4.14899290e-02,  1.14936024e-01,  7.44784176e-02,\n",
      "         1.99432850e-01,  1.09414101e-01, -2.30616555e-01,\n",
      "        -5.35353571e-02,  6.77599609e-02, -9.00214761e-02,\n",
      "        -1.34963781e-01],\n",
      "       [ 1.54268742e-03,  1.11773610e-01, -1.36545554e-01,\n",
      "         1.23459548e-01,  2.33534932e-01,  5.85182607e-02,\n",
      "         1.46970958e-01,  8.07614028e-02, -1.89565390e-01,\n",
      "        -9.14220661e-02],\n",
      "       [ 1.81474090e-02, -1.18701071e-01,  1.60884857e-01,\n",
      "        -1.34513915e-01,  6.16416335e-02, -2.01626137e-01,\n",
      "        -2.13325053e-01,  6.13605380e-02,  2.81213820e-02,\n",
      "        -1.28624588e-02],\n",
      "       [-1.04182512e-01,  6.48409724e-02, -2.27798566e-01,\n",
      "        -1.75588787e-01, -3.54952514e-02,  1.77522004e-03,\n",
      "        -8.70368928e-02, -1.69582933e-01,  5.70780039e-02,\n",
      "         5.57214618e-02],\n",
      "       [-6.61054105e-02,  2.16788828e-01, -1.98145136e-01,\n",
      "         1.99856490e-01,  1.13653272e-01, -2.59121060e-02,\n",
      "         9.11668539e-02, -1.76600665e-02, -3.95145863e-02,\n",
      "        -1.37944520e-01],\n",
      "       [-1.04471669e-01, -2.19286978e-01,  2.54043341e-02,\n",
      "         2.09875911e-01,  1.09663278e-01, -1.55171379e-01,\n",
      "         2.93565392e-02, -9.87288356e-02, -1.22511089e-02,\n",
      "        -2.21601650e-01],\n",
      "       [-2.22843379e-01,  1.75993592e-01,  5.52863479e-02,\n",
      "         1.52108938e-01, -2.10011214e-01,  4.87770438e-02,\n",
      "         1.70843422e-01,  6.47539496e-02,  1.37006491e-02,\n",
      "         8.01982284e-02],\n",
      "       [ 2.19597459e-01, -2.21792579e-01, -1.56415045e-01,\n",
      "         1.06743842e-01,  1.21914744e-02, -9.44428444e-02,\n",
      "        -2.19339326e-01, -2.14304477e-02, -1.30548820e-01,\n",
      "        -4.41033840e-02],\n",
      "       [-1.78133547e-01, -1.43166497e-01,  2.10426718e-01,\n",
      "         1.96959943e-01, -3.85230482e-02, -1.50273085e-01,\n",
      "         1.58506036e-01, -1.58509433e-01,  2.23029077e-01,\n",
      "         5.54369688e-02],\n",
      "       [ 1.89906001e-01,  1.89662397e-01, -1.67845577e-01,\n",
      "        -1.82871178e-01, -3.83736044e-02,  4.98362482e-02,\n",
      "         2.21895754e-01,  3.99667025e-03,  7.61077404e-02,\n",
      "         2.18494743e-01],\n",
      "       [-8.16986561e-02, -9.21526700e-02, -1.11663014e-01,\n",
      "        -1.43429428e-01, -2.27627724e-01, -2.06482053e-01,\n",
      "         1.14514351e-01, -1.83148652e-01,  2.69377828e-02,\n",
      "         7.80022144e-02],\n",
      "       [ 1.17553234e-01, -1.84283704e-02, -5.94215095e-02,\n",
      "        -1.44141495e-01,  1.32448316e-01,  1.76647276e-01,\n",
      "        -1.22820303e-01, -1.42838627e-01, -8.36677104e-02,\n",
      "        -6.23788089e-02],\n",
      "       [ 4.92946208e-02, -8.22558105e-02, -1.31964162e-01,\n",
      "         2.30872035e-01, -1.96091682e-01, -2.08211944e-01,\n",
      "        -1.78609967e-01, -6.63553178e-02,  2.67697871e-02,\n",
      "        -2.73437649e-02],\n",
      "       [ 5.73684871e-02,  1.52706981e-01,  2.17279553e-01,\n",
      "         1.86753094e-01,  6.64829016e-02, -1.08348280e-02,\n",
      "        -2.21796706e-01, -3.80024165e-02,  4.85691428e-03,\n",
      "         7.79952109e-02],\n",
      "       [ 1.75643295e-01,  1.74403489e-01, -3.82094979e-02,\n",
      "        -1.52374208e-02,  1.23293102e-01,  7.69259930e-02,\n",
      "         5.61217964e-02, -8.80216360e-02, -6.31628186e-02,\n",
      "         7.23884106e-02],\n",
      "       [-2.21461833e-01, -1.10634893e-01, -4.09608334e-02,\n",
      "        -3.46074551e-02, -1.03484243e-01,  2.04528809e-01,\n",
      "         2.68223584e-02, -1.71065032e-01, -3.34056467e-02,\n",
      "        -4.52586859e-02],\n",
      "       [ 1.01951122e-01,  1.57791257e-01, -2.03751653e-01,\n",
      "         1.00472212e-01,  1.20152652e-01, -1.52870461e-01,\n",
      "        -1.16432339e-01,  4.46161628e-02,  1.77712262e-01,\n",
      "        -1.29475325e-01],\n",
      "       [ 1.61526203e-02,  7.77117908e-02,  7.35215843e-03,\n",
      "         7.22447634e-02, -5.83153665e-02,  1.43759727e-01,\n",
      "        -1.45918429e-01,  7.81927705e-02, -2.08637357e-01,\n",
      "        -7.17157125e-02],\n",
      "       [-1.75788969e-01, -2.24957749e-01,  1.95198983e-01,\n",
      "        -4.46382761e-02,  6.09229803e-02, -2.08587676e-01,\n",
      "        -2.26548597e-01,  7.31135607e-02,  2.29846805e-01,\n",
      "        -6.00849539e-02],\n",
      "       [-4.36220169e-02, -2.13972464e-01, -1.58421785e-01,\n",
      "        -1.36159331e-01,  3.69050801e-02,  5.28846383e-02,\n",
      "         1.20799989e-02, -2.19147608e-01, -6.32013381e-03,\n",
      "         1.31753504e-01],\n",
      "       [-1.30784422e-01, -1.25075877e-02,  6.35165572e-02,\n",
      "        -1.12437896e-01,  3.79543006e-03,  1.32308275e-01,\n",
      "        -1.65555015e-01, -9.11083817e-03,  4.03048396e-02,\n",
      "        -7.96718597e-02],\n",
      "       [ 1.30333155e-01,  8.19170475e-02,  1.66367769e-01,\n",
      "         2.17481375e-01,  1.97333723e-01,  2.02763021e-01,\n",
      "         1.76170796e-01, -1.84867740e-01,  2.85696089e-02,\n",
      "         2.53713131e-02],\n",
      "       [ 8.26740563e-02,  2.09353477e-01, -2.03472674e-01,\n",
      "         1.70644343e-01,  3.25663984e-02,  1.61107481e-01,\n",
      "         1.87503517e-01, -3.64513844e-02, -1.11901723e-01,\n",
      "        -1.64102525e-01],\n",
      "       [-1.61259264e-01, -2.32022703e-02,  9.16514695e-02,\n",
      "         1.69118702e-01,  2.70674825e-02,  2.02798575e-01,\n",
      "        -9.68136936e-02,  1.95137233e-01, -9.13526267e-02,\n",
      "         7.06272423e-02],\n",
      "       [ 1.00171685e-01, -1.39053494e-01,  1.06185019e-01,\n",
      "         2.48944163e-02, -9.28921402e-02, -2.04758003e-01,\n",
      "        -1.83645010e-01,  2.17895508e-02, -8.60194564e-02,\n",
      "         8.06597769e-02],\n",
      "       [ 2.39508152e-02, -2.29768440e-01,  1.94019556e-01,\n",
      "        -1.66429341e-01, -1.58692136e-01, -2.06684172e-01,\n",
      "        -1.16054535e-01, -2.01588884e-01,  3.58507335e-02,\n",
      "         1.71371013e-01],\n",
      "       [-1.72975719e-01,  3.59397531e-02, -6.30053878e-03,\n",
      "        -8.13112706e-02,  1.74023271e-01, -1.06569618e-01,\n",
      "         9.61625278e-02,  2.02279508e-01,  1.53510422e-01,\n",
      "        -1.07763112e-01],\n",
      "       [-2.98492610e-02, -1.64441019e-01, -1.07162580e-01,\n",
      "         1.77541405e-01, -5.65664917e-02, -1.97773620e-01,\n",
      "         8.82947445e-03, -6.20022267e-02, -2.37013549e-02,\n",
      "        -1.86392158e-01],\n",
      "       [-6.73162937e-02,  2.15201378e-01, -1.39947027e-01,\n",
      "        -1.18917063e-01,  1.82357669e-01, -2.18866572e-01,\n",
      "        -1.00162730e-01,  4.25146520e-02, -3.45425308e-02,\n",
      "         2.16925263e-01],\n",
      "       [ 3.51559222e-02, -9.69693214e-02, -2.02454075e-01,\n",
      "        -1.83725521e-01, -1.52551517e-01,  7.77769089e-03,\n",
      "        -1.81367919e-01,  1.61612630e-02,  1.72577202e-01,\n",
      "         4.47821617e-03],\n",
      "       [-1.40453026e-01,  1.69900358e-02,  1.91485614e-01,\n",
      "         1.53578699e-01, -8.82974863e-02,  2.31552124e-01,\n",
      "        -1.38817787e-01,  1.63562745e-01, -1.15005970e-01,\n",
      "         1.70792133e-01],\n",
      "       [-9.85145718e-02,  1.32190853e-01,  1.46855742e-01,\n",
      "        -1.04531750e-01,  9.83958542e-02, -1.57695860e-02,\n",
      "         1.29563957e-01, -1.28529936e-01, -8.82788897e-02,\n",
      "         2.11363018e-01],\n",
      "       [-1.31302983e-01,  9.31546390e-02,  9.58178639e-02,\n",
      "         2.04933465e-01,  1.26599491e-01, -2.08220288e-01,\n",
      "         1.99471772e-01,  1.99862123e-01,  1.13209933e-02,\n",
      "         2.22425252e-01],\n",
      "       [ 1.76535279e-01, -1.79691434e-01, -2.00494617e-01,\n",
      "        -1.19413696e-01,  1.00668877e-01, -1.16812594e-01,\n",
      "        -2.22718477e-01,  2.06501931e-01,  1.08920097e-01,\n",
      "         2.31920689e-01],\n",
      "       [-1.28057152e-02,  1.80625170e-01, -2.48550326e-02,\n",
      "         3.12011838e-02, -1.68515652e-01,  2.81815231e-02,\n",
      "        -3.05920839e-03,  1.94739193e-01, -2.17789233e-01,\n",
      "         1.64898306e-01],\n",
      "       [ 1.29233479e-01,  9.71800089e-03, -1.94841325e-01,\n",
      "        -2.19023272e-01, -3.61915082e-02, -2.25073904e-01,\n",
      "        -2.21838415e-01,  1.55849457e-02, -6.46809489e-02,\n",
      "         6.41053021e-02],\n",
      "       [-1.84881940e-01,  1.55864626e-01,  7.32651949e-02,\n",
      "         1.96761191e-01, -7.74676651e-02,  6.10201359e-02,\n",
      "         1.02941394e-01,  7.04788268e-02,  2.15896517e-01,\n",
      "        -3.54334414e-02],\n",
      "       [ 2.06923604e-01,  1.58209324e-01,  2.07186490e-01,\n",
      "         2.27679223e-01,  1.31789207e-01, -1.15369856e-02,\n",
      "         1.90610677e-01,  1.71178609e-01, -1.52675301e-01,\n",
      "        -8.33577216e-02],\n",
      "       [ 1.84594989e-02,  1.04933321e-01,  1.46920711e-01,\n",
      "         2.07245857e-01, -2.18086183e-01,  1.94663584e-01,\n",
      "        -5.40212393e-02, -1.11559443e-01,  1.54316545e-01,\n",
      "        -1.73229128e-01],\n",
      "       [ 9.97118056e-02, -1.93600044e-01, -2.25525051e-01,\n",
      "        -2.31827751e-01,  8.10260177e-02,  1.55957222e-01,\n",
      "        -1.69637546e-01, -7.55249560e-02, -8.23534876e-02,\n",
      "        -1.02188453e-01],\n",
      "       [-2.22583562e-01, -7.46794790e-02,  1.84834599e-01,\n",
      "        -7.13453144e-02,  6.72578812e-02,  2.05792785e-02,\n",
      "        -2.15206623e-01, -5.86478412e-02,  2.07075447e-01,\n",
      "        -1.17548704e-02],\n",
      "       [-1.22855715e-01,  1.29283547e-01, -1.44168615e-01,\n",
      "         1.60038531e-01, -5.84278405e-02,  2.15651006e-01,\n",
      "         1.62016511e-01,  1.42587453e-01, -1.16170853e-01,\n",
      "        -8.35913569e-02],\n",
      "       [-3.38318497e-02,  3.32188904e-02, -1.99824125e-02,\n",
      "         1.66409850e-01,  1.35067582e-01, -1.36173755e-01,\n",
      "         3.97768617e-03,  9.57286060e-02, -9.72506851e-02,\n",
      "         2.05793411e-01],\n",
      "       [ 1.12819374e-01,  2.12043911e-01, -9.48696434e-02,\n",
      "        -1.89518571e-01,  1.03952736e-02, -2.24637970e-01,\n",
      "        -1.90145224e-01,  1.59461170e-01, -2.25236446e-01,\n",
      "         1.77893490e-01],\n",
      "       [ 6.33078218e-02, -2.30549946e-01, -2.27040887e-01,\n",
      "        -2.20433429e-01, -3.73076648e-02, -6.71823770e-02,\n",
      "        -5.10082543e-02,  2.26910412e-01, -1.19931541e-01,\n",
      "         7.84718096e-02],\n",
      "       [-2.21784398e-01, -1.27474248e-01, -1.10779405e-02,\n",
      "        -5.29474020e-02, -1.74737900e-01,  1.82960540e-01,\n",
      "        -1.36137009e-01, -1.30464673e-01, -7.47356117e-02,\n",
      "        -3.76812369e-02],\n",
      "       [-5.50934076e-02, -3.20791751e-02, -1.10691801e-01,\n",
      "        -4.36350405e-02,  1.75803900e-02,  4.57671285e-02,\n",
      "         1.73031688e-01, -1.57392681e-01, -7.19170570e-02,\n",
      "        -7.01896846e-02],\n",
      "       [-4.35541868e-02,  8.72842371e-02,  1.98624611e-01,\n",
      "         1.75365269e-01, -1.90173000e-01, -5.69845587e-02,\n",
      "        -7.09502399e-03,  2.09643871e-01,  1.69721544e-02,\n",
      "         1.14546597e-01],\n",
      "       [ 6.55622482e-02,  1.24012798e-01,  4.78475988e-02,\n",
      "        -1.58281088e-01,  8.72218609e-02, -7.64657259e-02,\n",
      "        -2.25254476e-01, -2.39774585e-04,  4.11661863e-02,\n",
      "         2.14517266e-01],\n",
      "       [-1.94046408e-01, -1.74007684e-01, -1.18226595e-01,\n",
      "        -1.49083272e-01, -1.31710738e-01, -1.69134900e-01,\n",
      "        -1.71009064e-01, -2.23229229e-02,  3.12318504e-02,\n",
      "        -1.50247157e-01],\n",
      "       [-6.82495236e-02,  6.49774075e-02, -1.62541747e-01,\n",
      "         1.36852205e-01, -1.67701408e-01,  2.17623413e-01,\n",
      "        -2.23888308e-01,  5.81856370e-02,  9.27229226e-02,\n",
      "         1.17828965e-01],\n",
      "       [ 2.03255624e-01,  6.76558912e-02, -1.31616592e-01,\n",
      "        -2.14757591e-01, -1.95211723e-01, -7.13772178e-02,\n",
      "         1.44472092e-01,  4.37343121e-02, -1.35819227e-01,\n",
      "        -8.27734917e-02],\n",
      "       [-4.85133380e-02, -1.97593570e-02,  1.51070744e-01,\n",
      "         1.48613364e-01,  2.61167586e-02, -1.94100142e-01,\n",
      "        -8.92345756e-02,  1.64166242e-02,  1.80164456e-01,\n",
      "        -1.30112261e-01],\n",
      "       [-1.50264680e-01,  2.08585441e-01,  1.93276197e-01,\n",
      "         2.01444507e-01, -3.50891650e-02, -1.92351982e-01,\n",
      "         4.12598550e-02,  2.28845775e-01,  1.29500777e-01,\n",
      "         1.42527193e-01],\n",
      "       [ 2.19499350e-01, -1.25741854e-01,  6.92187548e-02,\n",
      "        -2.19860509e-01, -1.29195511e-01,  1.23087466e-01,\n",
      "        -1.27692580e-01, -1.59943044e-01,  8.57245028e-02,\n",
      "        -9.28464830e-02],\n",
      "       [ 1.24849379e-01,  6.22624755e-02, -2.32201502e-01,\n",
      "         1.75104231e-01,  1.96031749e-01, -2.30293930e-01,\n",
      "         1.22482359e-01,  1.45465136e-01,  1.74837679e-01,\n",
      "        -1.50181770e-01],\n",
      "       [ 9.73985195e-02, -3.36787254e-02,  2.32352793e-01,\n",
      "        -1.72701254e-01,  1.99834257e-01, -9.87218320e-03,\n",
      "        -3.89888883e-04,  1.97602004e-01, -1.45305932e-01,\n",
      "         9.76068377e-02],\n",
      "       [ 5.60083389e-02,  1.81069911e-01, -1.79497436e-01,\n",
      "        -2.26567641e-01,  1.40368402e-01, -8.98975283e-02,\n",
      "        -1.51661605e-01, -1.68448895e-01,  1.58896893e-01,\n",
      "        -1.61172062e-01],\n",
      "       [-1.09017476e-01, -2.18132570e-01, -9.99364853e-02,\n",
      "         2.09698707e-01,  1.76758766e-02, -5.31827658e-02,\n",
      "        -2.26820946e-01,  1.02769732e-01,  1.83843166e-01,\n",
      "        -1.07500911e-01],\n",
      "       [-1.84631795e-02, -2.30058774e-01,  1.56709999e-01,\n",
      "         8.33262503e-02, -1.24683104e-01, -1.20018795e-01,\n",
      "        -5.45225441e-02,  2.25409120e-01,  2.04965860e-01,\n",
      "         8.87181163e-02],\n",
      "       [ 1.49811864e-01, -2.25149468e-01,  1.40621364e-01,\n",
      "        -7.95750916e-02, -2.19204009e-01,  1.23246223e-01,\n",
      "        -1.67072147e-01, -2.28365138e-01, -1.33105159e-01,\n",
      "         8.99250805e-03],\n",
      "       [-2.74367630e-02, -1.25444353e-01, -1.01414189e-01,\n",
      "         7.37577677e-03,  1.38931841e-01,  1.20031983e-01,\n",
      "         1.60067230e-01, -1.90859959e-01, -4.48249876e-02,\n",
      "         9.36470926e-02],\n",
      "       [-1.81021914e-01,  1.07851386e-01,  1.09364331e-01,\n",
      "         1.71162248e-01,  1.66590601e-01,  1.99655533e-01,\n",
      "         1.71360373e-02,  3.54943573e-02,  1.03602171e-01,\n",
      "         8.21090937e-02],\n",
      "       [ 1.05517060e-01,  6.11357391e-02,  1.27476633e-01,\n",
      "         2.31658518e-02,  5.85569441e-03, -9.70247239e-02,\n",
      "        -1.13230944e-03,  8.02406073e-02,  1.55203849e-01,\n",
      "         1.71094030e-01],\n",
      "       [ 2.23379642e-01, -1.81270480e-01, -3.54226977e-02,\n",
      "        -1.43503994e-01,  2.23297775e-02,  3.34613025e-03,\n",
      "         1.95114553e-01,  7.59026110e-02, -1.84359193e-01,\n",
      "         2.12760985e-01],\n",
      "       [ 2.30620444e-01,  8.33132267e-02, -3.63920778e-02,\n",
      "         7.05204904e-02, -1.19730383e-02, -4.65188473e-02,\n",
      "        -1.85433090e-01, -1.90560997e-01,  1.69889331e-02,\n",
      "        -1.28062040e-01],\n",
      "       [ 1.87199831e-01,  9.34955180e-02,  5.97941279e-02,\n",
      "         9.75954831e-02,  4.46201265e-02,  3.96250188e-02,\n",
      "         4.56092060e-02,  8.68602097e-02,  9.56939161e-02,\n",
      "        -1.83728471e-01],\n",
      "       [-2.07289606e-01,  1.15364522e-01, -5.68370521e-02,\n",
      "         1.01516992e-01,  9.58769917e-02,  9.14252996e-02,\n",
      "        -1.22062348e-01,  2.17480928e-01,  1.76616520e-01,\n",
      "         1.04294211e-01],\n",
      "       [ 1.99304610e-01, -1.62029535e-01,  5.13713062e-02,\n",
      "         1.51938349e-02, -1.95734978e-01,  6.27004206e-02,\n",
      "        -1.95812315e-01, -1.04003713e-01,  1.88279361e-01,\n",
      "        -7.54773617e-04],\n",
      "       [ 4.10685837e-02,  1.98774129e-01, -1.39976829e-01,\n",
      "        -1.21569112e-01, -1.10065706e-01,  1.29118174e-01,\n",
      "        -1.20875478e-01, -2.04996049e-01, -2.36746222e-02,\n",
      "        -2.89034992e-02],\n",
      "       [-9.26679075e-02, -1.19029149e-01,  8.06033909e-02,\n",
      "         1.44336820e-01,  9.13070738e-02, -6.49567395e-02,\n",
      "         6.86248243e-02,  7.74330497e-02, -1.68235123e-01,\n",
      "         9.94043946e-02],\n",
      "       [ 1.32582784e-01, -1.57395184e-01, -8.68107080e-02,\n",
      "        -1.18598223e-01,  9.39539969e-02, -2.00588152e-01,\n",
      "         8.28073025e-02,  3.20060253e-02, -8.86500776e-02,\n",
      "         1.50909811e-01],\n",
      "       [ 8.95996392e-02,  1.33610368e-02, -9.67620164e-02,\n",
      "        -1.59752607e-01, -2.55220532e-02, -9.18175131e-02,\n",
      "         9.74083841e-02, -1.71156734e-01,  1.76461339e-02,\n",
      "        -2.05008015e-01],\n",
      "       [ 1.34892225e-01, -1.92964047e-01,  1.31930411e-01,\n",
      "         5.37206531e-02,  1.02344096e-01, -4.69438732e-02,\n",
      "         1.51721328e-01, -1.98275656e-01,  6.02954328e-02,\n",
      "        -7.43199885e-02],\n",
      "       [ 1.87911838e-01, -7.16292411e-02, -6.48153573e-02,\n",
      "         1.33999795e-01, -9.38351452e-03, -2.23064542e-01,\n",
      "        -1.75491571e-01, -1.02639705e-01,  7.64981210e-02,\n",
      "         5.64880967e-02],\n",
      "       [-3.82875055e-02, -6.32516891e-02,  5.32937944e-02,\n",
      "        -2.55023390e-02,  6.39055669e-02, -1.66790485e-02,\n",
      "         1.11336052e-01, -1.69263363e-01, -1.19298100e-01,\n",
      "        -6.10688180e-02],\n",
      "       [ 1.77994221e-01, -6.93122298e-02,  1.85513198e-01,\n",
      "        -1.80110335e-01,  1.48880184e-01, -1.37045354e-01,\n",
      "         1.30300820e-01,  1.78203136e-01, -1.09252907e-01,\n",
      "         2.11167067e-01],\n",
      "       [-1.58627480e-01, -6.42181188e-02, -6.12907708e-02,\n",
      "        -2.08614975e-01, -1.42072052e-01,  1.21313304e-01,\n",
      "        -1.09939635e-01, -4.05914932e-02,  2.15568990e-01,\n",
      "         1.67029947e-01],\n",
      "       [-2.30467916e-02, -2.21544579e-01,  1.58507943e-01,\n",
      "         1.42238498e-01, -4.41848040e-02, -1.56745464e-01,\n",
      "        -9.61166024e-02, -5.26636392e-02, -1.07564330e-01,\n",
      "         3.54166329e-02],\n",
      "       [-8.81338418e-02,  1.83234185e-01, -1.53899923e-01,\n",
      "         5.66252470e-02, -2.29015723e-01,  1.84517115e-01,\n",
      "        -1.45828396e-01, -2.94932872e-02,  1.02185786e-01,\n",
      "        -7.03725964e-02],\n",
      "       [ 2.16440648e-01,  1.97353780e-01, -1.81603566e-01,\n",
      "         3.11289728e-02,  5.13962507e-02,  2.06049442e-01,\n",
      "        -7.32899755e-02, -3.34263146e-02,  8.13245773e-04,\n",
      "         1.98781818e-01]], dtype=float32), array([0., 0., 0., 0., 0., 0., 0., 0., 0., 0.], dtype=float32)]\n"
     ]
    }
   ],
   "source": [
    "for m in model.layers:\n",
    "    print(m.name)\n",
    "    print(m.get_weights())"
   ]
  },
  {
   "cell_type": "code",
   "execution_count": 23,
   "metadata": {},
   "outputs": [],
   "source": [
    "model.compile(loss=\"sparse_categorical_crossentropy\", optimizer=\"sgd\", metrics=[\"accuracy\"])"
   ]
  },
  {
   "cell_type": "code",
   "execution_count": 24,
   "metadata": {},
   "outputs": [
    {
     "name": "stdout",
     "output_type": "stream",
     "text": [
      "Epoch 1/50\n",
      "1719/1719 [==============================] - 6s 3ms/step - loss: 0.7247 - accuracy: 0.7656 - val_loss: 0.5140 - val_accuracy: 0.8244\n",
      "Epoch 2/50\n",
      "1719/1719 [==============================] - 5s 3ms/step - loss: 0.4873 - accuracy: 0.8312 - val_loss: 0.4621 - val_accuracy: 0.8460\n",
      "Epoch 3/50\n",
      "1719/1719 [==============================] - 5s 3ms/step - loss: 0.4431 - accuracy: 0.8447 - val_loss: 0.4089 - val_accuracy: 0.8620\n",
      "Epoch 4/50\n",
      "1719/1719 [==============================] - 4s 2ms/step - loss: 0.4158 - accuracy: 0.8538 - val_loss: 0.3984 - val_accuracy: 0.8668\n",
      "Epoch 5/50\n",
      "1719/1719 [==============================] - 6s 3ms/step - loss: 0.3953 - accuracy: 0.8615 - val_loss: 0.3763 - val_accuracy: 0.8724\n",
      "Epoch 6/50\n",
      "1719/1719 [==============================] - 4s 3ms/step - loss: 0.3791 - accuracy: 0.8666 - val_loss: 0.3977 - val_accuracy: 0.8590\n",
      "Epoch 7/50\n",
      "1719/1719 [==============================] - 4s 2ms/step - loss: 0.3645 - accuracy: 0.8712 - val_loss: 0.3659 - val_accuracy: 0.8738\n",
      "Epoch 8/50\n",
      "1719/1719 [==============================] - 4s 2ms/step - loss: 0.3525 - accuracy: 0.8738 - val_loss: 0.3535 - val_accuracy: 0.8748\n",
      "Epoch 9/50\n",
      "1719/1719 [==============================] - 7s 4ms/step - loss: 0.3418 - accuracy: 0.8795 - val_loss: 0.3471 - val_accuracy: 0.8792\n",
      "Epoch 10/50\n",
      "1719/1719 [==============================] - 6s 3ms/step - loss: 0.3331 - accuracy: 0.8815 - val_loss: 0.3584 - val_accuracy: 0.8700\n",
      "Epoch 11/50\n",
      "1719/1719 [==============================] - 5s 3ms/step - loss: 0.3244 - accuracy: 0.8849 - val_loss: 0.3319 - val_accuracy: 0.8822\n",
      "Epoch 12/50\n",
      "1719/1719 [==============================] - 5s 3ms/step - loss: 0.3167 - accuracy: 0.8862 - val_loss: 0.3371 - val_accuracy: 0.8818\n",
      "Epoch 13/50\n",
      "1719/1719 [==============================] - 5s 3ms/step - loss: 0.3089 - accuracy: 0.8899 - val_loss: 0.3245 - val_accuracy: 0.8864\n",
      "Epoch 14/50\n",
      "1719/1719 [==============================] - 5s 3ms/step - loss: 0.3034 - accuracy: 0.8907 - val_loss: 0.3282 - val_accuracy: 0.8808\n",
      "Epoch 15/50\n",
      "1719/1719 [==============================] - 5s 3ms/step - loss: 0.2965 - accuracy: 0.8931 - val_loss: 0.3258 - val_accuracy: 0.8828\n",
      "Epoch 16/50\n",
      "1719/1719 [==============================] - 4s 2ms/step - loss: 0.2899 - accuracy: 0.8961 - val_loss: 0.3210 - val_accuracy: 0.8834\n",
      "Epoch 17/50\n",
      "1719/1719 [==============================] - 4s 2ms/step - loss: 0.2840 - accuracy: 0.8979 - val_loss: 0.3178 - val_accuracy: 0.8842\n",
      "Epoch 18/50\n",
      "1719/1719 [==============================] - 4s 2ms/step - loss: 0.2802 - accuracy: 0.8983 - val_loss: 0.3079 - val_accuracy: 0.8898\n",
      "Epoch 19/50\n",
      "1719/1719 [==============================] - 4s 2ms/step - loss: 0.2737 - accuracy: 0.9017 - val_loss: 0.3180 - val_accuracy: 0.8846\n",
      "Epoch 20/50\n",
      "1719/1719 [==============================] - 4s 2ms/step - loss: 0.2697 - accuracy: 0.9027 - val_loss: 0.3021 - val_accuracy: 0.8940\n",
      "Epoch 21/50\n",
      "1719/1719 [==============================] - 4s 2ms/step - loss: 0.2646 - accuracy: 0.9041 - val_loss: 0.3050 - val_accuracy: 0.8892\n",
      "Epoch 22/50\n",
      "1719/1719 [==============================] - 4s 2ms/step - loss: 0.2596 - accuracy: 0.9064 - val_loss: 0.3018 - val_accuracy: 0.8944\n",
      "Epoch 23/50\n",
      "1719/1719 [==============================] - 6s 4ms/step - loss: 0.2562 - accuracy: 0.9070 - val_loss: 0.3149 - val_accuracy: 0.8856\n",
      "Epoch 24/50\n",
      "1719/1719 [==============================] - 6s 3ms/step - loss: 0.2500 - accuracy: 0.9101 - val_loss: 0.3315 - val_accuracy: 0.8808\n",
      "Epoch 25/50\n",
      "1719/1719 [==============================] - 5s 3ms/step - loss: 0.2471 - accuracy: 0.9107 - val_loss: 0.3051 - val_accuracy: 0.8908\n",
      "Epoch 26/50\n",
      "1719/1719 [==============================] - 5s 3ms/step - loss: 0.2426 - accuracy: 0.9120 - val_loss: 0.3073 - val_accuracy: 0.8902\n",
      "Epoch 27/50\n",
      "1719/1719 [==============================] - 5s 3ms/step - loss: 0.2393 - accuracy: 0.9131 - val_loss: 0.2964 - val_accuracy: 0.8938\n",
      "Epoch 28/50\n",
      "1719/1719 [==============================] - 7s 4ms/step - loss: 0.2338 - accuracy: 0.9159 - val_loss: 0.2913 - val_accuracy: 0.8958\n",
      "Epoch 29/50\n",
      "1719/1719 [==============================] - 5s 3ms/step - loss: 0.2306 - accuracy: 0.9168 - val_loss: 0.3036 - val_accuracy: 0.8900\n",
      "Epoch 30/50\n",
      "1719/1719 [==============================] - 5s 3ms/step - loss: 0.2263 - accuracy: 0.9181 - val_loss: 0.2901 - val_accuracy: 0.8916\n",
      "Epoch 31/50\n",
      "1719/1719 [==============================] - 5s 3ms/step - loss: 0.2234 - accuracy: 0.9198 - val_loss: 0.2882 - val_accuracy: 0.8978\n",
      "Epoch 32/50\n",
      "1719/1719 [==============================] - 4s 2ms/step - loss: 0.2180 - accuracy: 0.9227 - val_loss: 0.2960 - val_accuracy: 0.8976\n",
      "Epoch 33/50\n",
      "1719/1719 [==============================] - 4s 2ms/step - loss: 0.2162 - accuracy: 0.9232 - val_loss: 0.2980 - val_accuracy: 0.8904\n",
      "Epoch 34/50\n",
      "1719/1719 [==============================] - 4s 2ms/step - loss: 0.2121 - accuracy: 0.9244 - val_loss: 0.3219 - val_accuracy: 0.8846\n",
      "Epoch 35/50\n",
      "1719/1719 [==============================] - 4s 2ms/step - loss: 0.2098 - accuracy: 0.9255 - val_loss: 0.2834 - val_accuracy: 0.8958\n",
      "Epoch 36/50\n",
      "1719/1719 [==============================] - 4s 2ms/step - loss: 0.2064 - accuracy: 0.9260 - val_loss: 0.2963 - val_accuracy: 0.8926\n",
      "Epoch 37/50\n",
      "1719/1719 [==============================] - 4s 2ms/step - loss: 0.2026 - accuracy: 0.9268 - val_loss: 0.3084 - val_accuracy: 0.8892\n",
      "Epoch 38/50\n",
      "1719/1719 [==============================] - 4s 2ms/step - loss: 0.1989 - accuracy: 0.9291 - val_loss: 0.2815 - val_accuracy: 0.8992\n",
      "Epoch 39/50\n",
      "1719/1719 [==============================] - 4s 2ms/step - loss: 0.1965 - accuracy: 0.9298 - val_loss: 0.2940 - val_accuracy: 0.8948\n",
      "Epoch 40/50\n",
      "1719/1719 [==============================] - 4s 2ms/step - loss: 0.1927 - accuracy: 0.9313 - val_loss: 0.2905 - val_accuracy: 0.8948\n",
      "Epoch 41/50\n",
      "1719/1719 [==============================] - 5s 3ms/step - loss: 0.1903 - accuracy: 0.9326 - val_loss: 0.2832 - val_accuracy: 0.8976\n",
      "Epoch 42/50\n",
      "1719/1719 [==============================] - 5s 3ms/step - loss: 0.1870 - accuracy: 0.9337 - val_loss: 0.2898 - val_accuracy: 0.8954\n",
      "Epoch 43/50\n",
      "1719/1719 [==============================] - 5s 3ms/step - loss: 0.1854 - accuracy: 0.9343 - val_loss: 0.2897 - val_accuracy: 0.8990\n",
      "Epoch 44/50\n",
      "1719/1719 [==============================] - 5s 3ms/step - loss: 0.1803 - accuracy: 0.9353 - val_loss: 0.3040 - val_accuracy: 0.8888\n",
      "Epoch 45/50\n",
      "1719/1719 [==============================] - 4s 2ms/step - loss: 0.1786 - accuracy: 0.9367 - val_loss: 0.2876 - val_accuracy: 0.9002\n",
      "Epoch 46/50\n",
      "1719/1719 [==============================] - 5s 3ms/step - loss: 0.1746 - accuracy: 0.9378 - val_loss: 0.2926 - val_accuracy: 0.8996\n",
      "Epoch 47/50\n",
      "1719/1719 [==============================] - 4s 2ms/step - loss: 0.1731 - accuracy: 0.9383 - val_loss: 0.2903 - val_accuracy: 0.8968\n",
      "Epoch 48/50\n",
      "1719/1719 [==============================] - 5s 3ms/step - loss: 0.1711 - accuracy: 0.9388 - val_loss: 0.3186 - val_accuracy: 0.8888\n",
      "Epoch 49/50\n",
      "1719/1719 [==============================] - 4s 2ms/step - loss: 0.1675 - accuracy: 0.9401 - val_loss: 0.2866 - val_accuracy: 0.9024\n",
      "Epoch 50/50\n",
      "1719/1719 [==============================] - 4s 2ms/step - loss: 0.1646 - accuracy: 0.9417 - val_loss: 0.2893 - val_accuracy: 0.8978\n"
     ]
    }
   ],
   "source": [
    "model_history = model.fit(X_train, Y_train, epochs=50, validation_data=(X_valid, Y_valid))"
   ]
  },
  {
   "cell_type": "code",
   "execution_count": 25,
   "metadata": {},
   "outputs": [
    {
     "data": {
      "text/plain": [
       "{'verbose': 1, 'epochs': 50, 'steps': 1719}"
      ]
     },
     "execution_count": 25,
     "metadata": {},
     "output_type": "execute_result"
    }
   ],
   "source": [
    "model_history.params"
   ]
  },
  {
   "cell_type": "code",
   "execution_count": 26,
   "metadata": {},
   "outputs": [
    {
     "data": {
      "text/plain": [
       "{'loss': [0.724703311920166,\n",
       "  0.48731574416160583,\n",
       "  0.44305530190467834,\n",
       "  0.4158252477645874,\n",
       "  0.3952535390853882,\n",
       "  0.37912777066230774,\n",
       "  0.3644665479660034,\n",
       "  0.3524553179740906,\n",
       "  0.3418034017086029,\n",
       "  0.3331136107444763,\n",
       "  0.32435762882232666,\n",
       "  0.31666988134384155,\n",
       "  0.30887484550476074,\n",
       "  0.30337950587272644,\n",
       "  0.29645416140556335,\n",
       "  0.2898513078689575,\n",
       "  0.2840307652950287,\n",
       "  0.280232310295105,\n",
       "  0.2737376093864441,\n",
       "  0.2697349190711975,\n",
       "  0.26461663842201233,\n",
       "  0.25955167412757874,\n",
       "  0.25618863105773926,\n",
       "  0.2499837875366211,\n",
       "  0.24713675677776337,\n",
       "  0.24259985983371735,\n",
       "  0.23925361037254333,\n",
       "  0.2338317483663559,\n",
       "  0.23057375848293304,\n",
       "  0.2262563407421112,\n",
       "  0.2233962118625641,\n",
       "  0.21803557872772217,\n",
       "  0.2161785364151001,\n",
       "  0.21210406720638275,\n",
       "  0.2097933292388916,\n",
       "  0.20638243854045868,\n",
       "  0.20260198414325714,\n",
       "  0.19894199073314667,\n",
       "  0.19648921489715576,\n",
       "  0.19272884726524353,\n",
       "  0.19028830528259277,\n",
       "  0.1870114654302597,\n",
       "  0.1854093074798584,\n",
       "  0.1803365796804428,\n",
       "  0.1786070168018341,\n",
       "  0.17462444305419922,\n",
       "  0.17307700216770172,\n",
       "  0.17113472521305084,\n",
       "  0.1675029993057251,\n",
       "  0.16456706821918488],\n",
       " 'accuracy': [0.7656363844871521,\n",
       "  0.8311636447906494,\n",
       "  0.8447272777557373,\n",
       "  0.8538363575935364,\n",
       "  0.8615090847015381,\n",
       "  0.866636335849762,\n",
       "  0.8712363839149475,\n",
       "  0.87383633852005,\n",
       "  0.8794727325439453,\n",
       "  0.8815454840660095,\n",
       "  0.8849454522132874,\n",
       "  0.8862181901931763,\n",
       "  0.8899454474449158,\n",
       "  0.8907454609870911,\n",
       "  0.8931090831756592,\n",
       "  0.8960909247398376,\n",
       "  0.8978545665740967,\n",
       "  0.8982727527618408,\n",
       "  0.9017090797424316,\n",
       "  0.9027090668678284,\n",
       "  0.9040908813476562,\n",
       "  0.9063636660575867,\n",
       "  0.9070181846618652,\n",
       "  0.9101454615592957,\n",
       "  0.9107454419136047,\n",
       "  0.9120363593101501,\n",
       "  0.9130727052688599,\n",
       "  0.9159091114997864,\n",
       "  0.9168363809585571,\n",
       "  0.9181272983551025,\n",
       "  0.9197636246681213,\n",
       "  0.9227272868156433,\n",
       "  0.9232363700866699,\n",
       "  0.9243817925453186,\n",
       "  0.9254545569419861,\n",
       "  0.9259999990463257,\n",
       "  0.9267818331718445,\n",
       "  0.9291454553604126,\n",
       "  0.9297999739646912,\n",
       "  0.9312545657157898,\n",
       "  0.9326363801956177,\n",
       "  0.9336545467376709,\n",
       "  0.934327244758606,\n",
       "  0.935309112071991,\n",
       "  0.9366727471351624,\n",
       "  0.937818169593811,\n",
       "  0.9383454322814941,\n",
       "  0.9388181567192078,\n",
       "  0.9401454329490662,\n",
       "  0.9416545629501343],\n",
       " 'val_loss': [0.5140395760536194,\n",
       "  0.4621155261993408,\n",
       "  0.4089113175868988,\n",
       "  0.39841634035110474,\n",
       "  0.37634631991386414,\n",
       "  0.3976953327655792,\n",
       "  0.3659054636955261,\n",
       "  0.3534741997718811,\n",
       "  0.3471364676952362,\n",
       "  0.35840532183647156,\n",
       "  0.33191171288490295,\n",
       "  0.3370554745197296,\n",
       "  0.32454702258110046,\n",
       "  0.3281642198562622,\n",
       "  0.3258316218852997,\n",
       "  0.32097116112709045,\n",
       "  0.31781092286109924,\n",
       "  0.30786532163619995,\n",
       "  0.3180101215839386,\n",
       "  0.30210018157958984,\n",
       "  0.3049546778202057,\n",
       "  0.3017647862434387,\n",
       "  0.3148590922355652,\n",
       "  0.3315469026565552,\n",
       "  0.30506229400634766,\n",
       "  0.30732041597366333,\n",
       "  0.29641494154930115,\n",
       "  0.2913021743297577,\n",
       "  0.3035912811756134,\n",
       "  0.2900910973548889,\n",
       "  0.2881687879562378,\n",
       "  0.2959631085395813,\n",
       "  0.29803770780563354,\n",
       "  0.321918785572052,\n",
       "  0.28338852524757385,\n",
       "  0.2962908148765564,\n",
       "  0.30838385224342346,\n",
       "  0.2814655900001526,\n",
       "  0.29396355152130127,\n",
       "  0.29051145911216736,\n",
       "  0.2831706702709198,\n",
       "  0.2898179590702057,\n",
       "  0.2896977365016937,\n",
       "  0.3039926588535309,\n",
       "  0.28756558895111084,\n",
       "  0.29264745116233826,\n",
       "  0.29027530550956726,\n",
       "  0.3186098039150238,\n",
       "  0.2866421043872833,\n",
       "  0.2893102765083313],\n",
       " 'val_accuracy': [0.824400007724762,\n",
       "  0.8460000157356262,\n",
       "  0.8619999885559082,\n",
       "  0.8668000102043152,\n",
       "  0.8723999857902527,\n",
       "  0.859000027179718,\n",
       "  0.8737999796867371,\n",
       "  0.8748000264167786,\n",
       "  0.8791999816894531,\n",
       "  0.8700000047683716,\n",
       "  0.8822000026702881,\n",
       "  0.8817999958992004,\n",
       "  0.8863999843597412,\n",
       "  0.8808000087738037,\n",
       "  0.8827999830245972,\n",
       "  0.883400022983551,\n",
       "  0.8841999769210815,\n",
       "  0.8898000121116638,\n",
       "  0.8845999836921692,\n",
       "  0.8939999938011169,\n",
       "  0.88919997215271,\n",
       "  0.8944000005722046,\n",
       "  0.8855999708175659,\n",
       "  0.8808000087738037,\n",
       "  0.8907999992370605,\n",
       "  0.8902000188827515,\n",
       "  0.8938000202178955,\n",
       "  0.895799994468689,\n",
       "  0.8899999856948853,\n",
       "  0.8916000127792358,\n",
       "  0.8978000283241272,\n",
       "  0.897599995136261,\n",
       "  0.8903999924659729,\n",
       "  0.8845999836921692,\n",
       "  0.895799994468689,\n",
       "  0.8925999999046326,\n",
       "  0.88919997215271,\n",
       "  0.8992000222206116,\n",
       "  0.8948000073432922,\n",
       "  0.8948000073432922,\n",
       "  0.897599995136261,\n",
       "  0.8953999876976013,\n",
       "  0.8989999890327454,\n",
       "  0.8888000249862671,\n",
       "  0.9002000093460083,\n",
       "  0.8996000289916992,\n",
       "  0.8967999815940857,\n",
       "  0.8888000249862671,\n",
       "  0.902400016784668,\n",
       "  0.8978000283241272]}"
      ]
     },
     "execution_count": 26,
     "metadata": {},
     "output_type": "execute_result"
    }
   ],
   "source": [
    "model_history.history"
   ]
  },
  {
   "cell_type": "code",
   "execution_count": 27,
   "metadata": {},
   "outputs": [
    {
     "data": {
      "image/png": "[encoded data removed]",
      "text/plain": [
       "<Figure size 576x360 with 1 Axes>"
      ]
     },
     "metadata": {
      "needs_background": "light"
     },
     "output_type": "display_data"
    }
   ],
   "source": [
    "import pandas as pd\n",
    "\n",
    "pd.DataFrame(model_history.history).plot(figsize=(8,5))\n",
    "plt.grid(True)\n",
    "plt.gca().set_ylim(0,1)\n",
    "plt.show()"
   ]
  },
  {
   "cell_type": "code",
   "execution_count": 28,
   "metadata": {},
   "outputs": [
    {
     "name": "stdout",
     "output_type": "stream",
     "text": [
      "313/313 [==============================] - 1s 3ms/step - loss: 71.9477 - accuracy: 0.8511\n"
     ]
    },
    {
     "data": {
      "text/plain": [
       "[71.94772338867188, 0.8511000275611877]"
      ]
     },
     "execution_count": 28,
     "metadata": {},
     "output_type": "execute_result"
    }
   ],
   "source": [
    "model.evaluate(X_test, y_test)"
   ]
  },
  {
   "cell_type": "code",
   "execution_count": 29,
   "metadata": {},
   "outputs": [],
   "source": [
    "X_small = X_test_n[:3]"
   ]
  },
  {
   "cell_type": "code",
   "execution_count": 42,
   "metadata": {},
   "outputs": [
    {
     "name": "stdout",
     "output_type": "stream",
     "text": [
      "1/1 [==============================] - 0s 40ms/step\n"
     ]
    },
    {
     "data": {
      "text/plain": [
       "array([[0., 0., 0., 0., 0., 0., 0., 0., 0., 1.],\n",
       "       [0., 0., 1., 0., 0., 0., 0., 0., 0., 0.],\n",
       "       [0., 1., 0., 0., 0., 0., 0., 0., 0., 0.]], dtype=float32)"
      ]
     },
     "execution_count": 42,
     "metadata": {},
     "output_type": "execute_result"
    }
   ],
   "source": [
    "#Show the predicted value of each output\n",
    "\n",
    "y_proba = model.predict(X_small)\n",
    "y_proba.round(2)"
   ]
  },
  {
   "cell_type": "code",
   "execution_count": 43,
   "metadata": {},
   "outputs": [
    {
     "name": "stdout",
     "output_type": "stream",
     "text": [
      "[9 2 1]\n"
     ]
    }
   ],
   "source": [
    "y_inclass = np.argmax(y_proba, axis=1)\n",
    "print(y_inclass)"
   ]
  },
  {
   "cell_type": "code",
   "execution_count": 32,
   "metadata": {},
   "outputs": [
    {
     "data": {
      "text/plain": [
       "array(['Ankle boot', 'Pullover', 'Trouser'], dtype='<U11')"
      ]
     },
     "execution_count": 32,
     "metadata": {},
     "output_type": "execute_result"
    }
   ],
   "source": [
    "np.array(class_name)[y_inclass]"
   ]
  },
  {
   "cell_type": "code",
   "execution_count": 35,
   "metadata": {},
   "outputs": [
    {
     "data": {
      "text/plain": [
       "<matplotlib.image.AxesImage at 0x1aefe44ec80>"
      ]
     },
     "execution_count": 35,
     "metadata": {},
     "output_type": "execute_result"
    },
    {
     "data": {
      "image/png": "[encoded data removed]",
      "text/plain": [
       "<Figure size 432x288 with 1 Axes>"
      ]
     },
     "metadata": {
      "needs_background": "light"
     },
     "output_type": "display_data"
    }
   ],
   "source": [
    "plt.imshow(X_test[0])\n"
   ]
  },
  {
   "cell_type": "markdown",
   "metadata": {},
   "source": [
    "**HOW TO SAVE AND RELOAD MODELS - THEY ALREADY SAVE THE WEIGHTS FOR YOU. Thank God this exists.**"
   ]
  },
  {
   "cell_type": "code",
   "execution_count": 37,
   "metadata": {},
   "outputs": [],
   "source": [
    "model.save('imageclassifier_model.h5')"
   ]
  },
  {
   "cell_type": "code",
   "execution_count": 38,
   "metadata": {},
   "outputs": [],
   "source": [
    "del model"
   ]
  },
  {
   "cell_type": "code",
   "execution_count": 39,
   "metadata": {},
   "outputs": [
    {
     "name": "stdout",
     "output_type": "stream",
     "text": [
      "Model: \"sequential\"\n",
      "_________________________________________________________________\n",
      " Layer (type)                Output Shape              Param #   \n",
      "=================================================================\n",
      " flatten (Flatten)           (None, 784)               0         \n",
      "                                                                 \n",
      " dense (Dense)               (None, 300)               235500    \n",
      "                                                                 \n",
      " dense_1 (Dense)             (None, 100)               30100     \n",
      "                                                                 \n",
      " dense_2 (Dense)             (None, 10)                1010      \n",
      "                                                                 \n",
      "=================================================================\n",
      "Total params: 266,610\n",
      "Trainable params: 266,610\n",
      "Non-trainable params: 0\n",
      "_________________________________________________________________\n"
     ]
    }
   ],
   "source": [
    "model = keras.models.load_model(\"imageclassifier_model.h5\")\n",
    "model.summary()"
   ]
  }
 ],
 "metadata": {
  "kernelspec": {
   "display_name": "Python 3.10.1 64-bit",
   "language": "python",
   "name": "python3"
  },
  "language_info": {
   "codemirror_mode": {
    "name": "ipython",
    "version": 3
   },
   "file_extension": ".py",
   "mimetype": "text/x-python",
   "name": "python",
   "nbconvert_exporter": "python",
   "pygments_lexer": "ipython3",
   "version": "3.10.1"
  },
  "orig_nbformat": 4,
  "vscode": {
   "interpreter": {
    "hash": "65c45682600b822032a055cbf04f0dc5abe5e3c026f7225f43ce560cd84c5728"
   }
  }
 },
 "nbformat": 4,
 "nbformat_minor": 2
}
