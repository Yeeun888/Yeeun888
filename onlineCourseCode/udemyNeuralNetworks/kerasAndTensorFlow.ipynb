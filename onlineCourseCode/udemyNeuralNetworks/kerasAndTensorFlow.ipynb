{
 "cells": [
  {
   "cell_type": "code",
   "execution_count": 1,
   "metadata": {},
   "outputs": [],
   "source": [
    "import numpy as np\n",
    "import pandas as pd\n",
    "import matplotlib as mpl\n",
    "import matplotlib.pyplot as plt"
   ]
  },
  {
   "cell_type": "code",
   "execution_count": 2,
   "metadata": {},
   "outputs": [],
   "source": [
    "import tensorflow as tf\n",
    "from tensorflow import keras"
   ]
  },
  {
   "cell_type": "code",
   "execution_count": 3,
   "metadata": {},
   "outputs": [
    {
     "name": "stdout",
     "output_type": "stream",
     "text": [
      "2.9.0\n",
      "2.9.1\n"
     ]
    }
   ],
   "source": [
    "print(keras.__version__)\n",
    "print(tf.__version__)"
   ]
  },
  {
   "cell_type": "code",
   "execution_count": 4,
   "metadata": {},
   "outputs": [],
   "source": [
    "fashion_mnist = keras.datasets.fashion_mnist\n",
    "(X_train_full, y_train_full), (X_test, y_test) = fashion_mnist.load_data()"
   ]
  },
  {
   "cell_type": "code",
   "execution_count": 5,
   "metadata": {},
   "outputs": [
    {
     "data": {
      "text/plain": [
       "<matplotlib.image.AxesImage at 0x1fab42621d0>"
      ]
     },
     "execution_count": 5,
     "metadata": {},
     "output_type": "execute_result"
    },
    {
     "data": {
      "image/png": "[encoded data removed]",
      "text/plain": [
       "<Figure size 432x288 with 1 Axes>"
      ]
     },
     "metadata": {
      "needs_background": "light"
     },
     "output_type": "display_data"
    }
   ],
   "source": [
    "plt.imshow(X_train_full[0])"
   ]
  },
  {
   "cell_type": "code",
   "execution_count": 6,
   "metadata": {},
   "outputs": [
    {
     "data": {
      "text/plain": [
       "0"
      ]
     },
     "execution_count": 6,
     "metadata": {},
     "output_type": "execute_result"
    }
   ],
   "source": [
    "y_train_full[1]"
   ]
  },
  {
   "cell_type": "markdown",
   "metadata": {},
   "source": [
    "    Label \tDescription\n",
    "    0 \tT-shirt/top\n",
    "    1 \tTrouser\n",
    "    2 \tPullover\n",
    "    3 \tDress\n",
    "    4 \tCoat\n",
    "    5 \tSandal\n",
    "    6 \tShirt\n",
    "    7 \tSneaker\n",
    "    8 \tBag\n",
    "    9 \tAnkle boot"
   ]
  },
  {
   "cell_type": "code",
   "execution_count": 7,
   "metadata": {},
   "outputs": [],
   "source": [
    "class_name = [\"T-shirt/top\", \"Trouser\", \"Pullover\", \"Dress\", \"Coat\", \"Sandal\", \"Shirt\", \"Sneaker\", \"Bag\", \"Ankle boot\"]"
   ]
  },
  {
   "cell_type": "code",
   "execution_count": 8,
   "metadata": {},
   "outputs": [
    {
     "data": {
      "text/plain": [
       "'Ankle boot'"
      ]
     },
     "execution_count": 8,
     "metadata": {},
     "output_type": "execute_result"
    }
   ],
   "source": [
    "class_name[y_train_full[0]]"
   ]
  },
  {
   "cell_type": "code",
   "execution_count": 9,
   "metadata": {},
   "outputs": [],
   "source": [
    "#Random code I wrote to inspect the contents of y_train_full\n",
    "\n",
    "from IPython.display import clear_output\n",
    "\n",
    "def callRecurrsion(i):\n",
    "    \n",
    "    if i >= 0:\n",
    "        print(y_train_full[i])\n",
    "\n",
    "    else:\n",
    "        return 0\n",
    "\n",
    "    return callRecurrsion(i-1)\n",
    "\n",
    "#callRecurrsion(59999)\n",
    "clear_output()\n"
   ]
  },
  {
   "cell_type": "code",
   "execution_count": 10,
   "metadata": {},
   "outputs": [
    {
     "name": "stdout",
     "output_type": "stream",
     "text": [
      "Dress\n"
     ]
    },
    {
     "data": {
      "text/plain": [
       "<matplotlib.image.AxesImage at 0x1fab6381690>"
      ]
     },
     "execution_count": 10,
     "metadata": {},
     "output_type": "execute_result"
    },
    {
     "data": {
      "image/png": "[encoded data removed]",
      "text/plain": [
       "<Figure size 432x288 with 1 Axes>"
      ]
     },
     "metadata": {
      "needs_background": "light"
     },
     "output_type": "display_data"
    }
   ],
   "source": [
    "#print images and type together\n",
    "\n",
    "n = 3\n",
    "\n",
    "print(class_name[y_train_full[n]])\n",
    "plt.imshow(X_train_full[n])"
   ]
  },
  {
   "cell_type": "code",
   "execution_count": 11,
   "metadata": {},
   "outputs": [
    {
     "data": {
      "text/plain": [
       "array([[  0,   0,   0,   0,   0,   0,   0,   0,   0,   0,   0,   0,   0,\n",
       "          0,   0,   0,   0,   0,   0,   0,   0,   0,   0,   0,   0,   0,\n",
       "          0,   0],\n",
       "       [  0,   0,   0,   0,   0,   0,   0,   0,   0,   0,   0,   0,   0,\n",
       "          0,   0,   0,   0,   0,   0,   0,   0,   0,   0,   0,   0,   0,\n",
       "          0,   0],\n",
       "       [  0,   0,   0,   0,   0,   0,   0,   0,   0,   0,   0,   0,   0,\n",
       "          0,   0,   0,   0,   0,   0,   0,   0,   0,   0,   0,   0,   0,\n",
       "          0,   0],\n",
       "       [  0,   0,   0,   0,   0,   0,   0,   0,   0,   0,   0,   0,   1,\n",
       "          0,   0,  13,  73,   0,   0,   1,   4,   0,   0,   0,   0,   1,\n",
       "          1,   0],\n",
       "       [  0,   0,   0,   0,   0,   0,   0,   0,   0,   0,   0,   0,   3,\n",
       "          0,  36, 136, 127,  62,  54,   0,   0,   0,   1,   3,   4,   0,\n",
       "          0,   3],\n",
       "       [  0,   0,   0,   0,   0,   0,   0,   0,   0,   0,   0,   0,   6,\n",
       "          0, 102, 204, 176, 134, 144, 123,  23,   0,   0,   0,   0,  12,\n",
       "         10,   0],\n",
       "       [  0,   0,   0,   0,   0,   0,   0,   0,   0,   0,   0,   0,   0,\n",
       "          0, 155, 236, 207, 178, 107, 156, 161, 109,  64,  23,  77, 130,\n",
       "         72,  15],\n",
       "       [  0,   0,   0,   0,   0,   0,   0,   0,   0,   0,   0,   1,   0,\n",
       "         69, 207, 223, 218, 216, 216, 163, 127, 121, 122, 146, 141,  88,\n",
       "        172,  66],\n",
       "       [  0,   0,   0,   0,   0,   0,   0,   0,   0,   1,   1,   1,   0,\n",
       "        200, 232, 232, 233, 229, 223, 223, 215, 213, 164, 127, 123, 196,\n",
       "        229,   0],\n",
       "       [  0,   0,   0,   0,   0,   0,   0,   0,   0,   0,   0,   0,   0,\n",
       "        183, 225, 216, 223, 228, 235, 227, 224, 222, 224, 221, 223, 245,\n",
       "        173,   0],\n",
       "       [  0,   0,   0,   0,   0,   0,   0,   0,   0,   0,   0,   0,   0,\n",
       "        193, 228, 218, 213, 198, 180, 212, 210, 211, 213, 223, 220, 243,\n",
       "        202,   0],\n",
       "       [  0,   0,   0,   0,   0,   0,   0,   0,   0,   1,   3,   0,  12,\n",
       "        219, 220, 212, 218, 192, 169, 227, 208, 218, 224, 212, 226, 197,\n",
       "        209,  52],\n",
       "       [  0,   0,   0,   0,   0,   0,   0,   0,   0,   0,   6,   0,  99,\n",
       "        244, 222, 220, 218, 203, 198, 221, 215, 213, 222, 220, 245, 119,\n",
       "        167,  56],\n",
       "       [  0,   0,   0,   0,   0,   0,   0,   0,   0,   4,   0,   0,  55,\n",
       "        236, 228, 230, 228, 240, 232, 213, 218, 223, 234, 217, 217, 209,\n",
       "         92,   0],\n",
       "       [  0,   0,   1,   4,   6,   7,   2,   0,   0,   0,   0,   0, 237,\n",
       "        226, 217, 223, 222, 219, 222, 221, 216, 223, 229, 215, 218, 255,\n",
       "         77,   0],\n",
       "       [  0,   3,   0,   0,   0,   0,   0,   0,   0,  62, 145, 204, 228,\n",
       "        207, 213, 221, 218, 208, 211, 218, 224, 223, 219, 215, 224, 244,\n",
       "        159,   0],\n",
       "       [  0,   0,   0,   0,  18,  44,  82, 107, 189, 228, 220, 222, 217,\n",
       "        226, 200, 205, 211, 230, 224, 234, 176, 188, 250, 248, 233, 238,\n",
       "        215,   0],\n",
       "       [  0,  57, 187, 208, 224, 221, 224, 208, 204, 214, 208, 209, 200,\n",
       "        159, 245, 193, 206, 223, 255, 255, 221, 234, 221, 211, 220, 232,\n",
       "        246,   0],\n",
       "       [  3, 202, 228, 224, 221, 211, 211, 214, 205, 205, 205, 220, 240,\n",
       "         80, 150, 255, 229, 221, 188, 154, 191, 210, 204, 209, 222, 228,\n",
       "        225,   0],\n",
       "       [ 98, 233, 198, 210, 222, 229, 229, 234, 249, 220, 194, 215, 217,\n",
       "        241,  65,  73, 106, 117, 168, 219, 221, 215, 217, 223, 223, 224,\n",
       "        229,  29],\n",
       "       [ 75, 204, 212, 204, 193, 205, 211, 225, 216, 185, 197, 206, 198,\n",
       "        213, 240, 195, 227, 245, 239, 223, 218, 212, 209, 222, 220, 221,\n",
       "        230,  67],\n",
       "       [ 48, 203, 183, 194, 213, 197, 185, 190, 194, 192, 202, 214, 219,\n",
       "        221, 220, 236, 225, 216, 199, 206, 186, 181, 177, 172, 181, 205,\n",
       "        206, 115],\n",
       "       [  0, 122, 219, 193, 179, 171, 183, 196, 204, 210, 213, 207, 211,\n",
       "        210, 200, 196, 194, 191, 195, 191, 198, 192, 176, 156, 167, 177,\n",
       "        210,  92],\n",
       "       [  0,   0,  74, 189, 212, 191, 175, 172, 175, 181, 185, 188, 189,\n",
       "        188, 193, 198, 204, 209, 210, 210, 211, 188, 188, 194, 192, 216,\n",
       "        170,   0],\n",
       "       [  2,   0,   0,   0,  66, 200, 222, 237, 239, 242, 246, 243, 244,\n",
       "        221, 220, 193, 191, 179, 182, 182, 181, 176, 166, 168,  99,  58,\n",
       "          0,   0],\n",
       "       [  0,   0,   0,   0,   0,   0,   0,  40,  61,  44,  72,  41,  35,\n",
       "          0,   0,   0,   0,   0,   0,   0,   0,   0,   0,   0,   0,   0,\n",
       "          0,   0],\n",
       "       [  0,   0,   0,   0,   0,   0,   0,   0,   0,   0,   0,   0,   0,\n",
       "          0,   0,   0,   0,   0,   0,   0,   0,   0,   0,   0,   0,   0,\n",
       "          0,   0],\n",
       "       [  0,   0,   0,   0,   0,   0,   0,   0,   0,   0,   0,   0,   0,\n",
       "          0,   0,   0,   0,   0,   0,   0,   0,   0,   0,   0,   0,   0,\n",
       "          0,   0]], dtype=uint8)"
      ]
     },
     "execution_count": 11,
     "metadata": {},
     "output_type": "execute_result"
    }
   ],
   "source": [
    "#To see numerical pixel values\n",
    "X_train_full[0]"
   ]
  },
  {
   "cell_type": "markdown",
   "metadata": {},
   "source": [
    "Data Normalization \n",
    "\n",
    "Putting all the data into a scale of 0-1 for easy understanding. "
   ]
  },
  {
   "cell_type": "code",
   "execution_count": 12,
   "metadata": {},
   "outputs": [],
   "source": [
    "X_train_n = X_train_full / 255.0 #Noramlized full trainig dataset\n",
    "X_test_n = X_test/ 255.0 #"
   ]
  },
  {
   "cell_type": "markdown",
   "metadata": {},
   "source": [
    "        Split Data into training, validation, and testing. \n",
    "\n",
    "        Training - Establish a ground for weight and biases\n",
    "        Validation - Tuning hyperparameters more accurately\n",
    "        Testing - An actual graded test to see if that model performed accordingly\n"
   ]
  },
  {
   "cell_type": "code",
   "execution_count": 13,
   "metadata": {},
   "outputs": [],
   "source": [
    "X_train, X_valid = X_train_n[5000:], X_train_n[:5000]\n",
    "Y_train, Y_valid = y_train_full[5000:], y_train_full[:5000]\n",
    "\n",
    "#X_test = X_test_n tbh I find this line redundant and I'm not quite sure if the original dataset gets changed. For that reason continue\n",
    "#using X_test_n for testing instead. "
   ]
  },
  {
   "cell_type": "markdown",
   "metadata": {},
   "source": [
    "Learning to create neural network models:\n",
    "* Sequential Model\n",
    "* Functional API"
   ]
  },
  {
   "cell_type": "code",
   "execution_count": 14,
   "metadata": {},
   "outputs": [],
   "source": [
    "model = keras.models.Sequential()\n",
    "model.add(keras.layers.Flatten(input_shape=[28,28]))\n",
    "model.add(keras.layers.Dense(300, activation = \"relu\"))\n",
    "model.add(keras.layers.Dense(100, activation = \"relu\"))\n",
    "model.add(keras.layers.Dense(10, activation = \"softmax\"))"
   ]
  },
  {
   "cell_type": "code",
   "execution_count": 15,
   "metadata": {},
   "outputs": [
    {
     "name": "stdout",
     "output_type": "stream",
     "text": [
      "Model: \"sequential\"\n",
      "_________________________________________________________________\n",
      " Layer (type)                Output Shape              Param #   \n",
      "=================================================================\n",
      " flatten (Flatten)           (None, 784)               0         \n",
      "                                                                 \n",
      " dense (Dense)               (None, 300)               235500    \n",
      "                                                                 \n",
      " dense_1 (Dense)             (None, 100)               30100     \n",
      "                                                                 \n",
      " dense_2 (Dense)             (None, 10)                1010      \n",
      "                                                                 \n",
      "=================================================================\n",
      "Total params: 266,610\n",
      "Trainable params: 266,610\n",
      "Non-trainable params: 0\n",
      "_________________________________________________________________\n"
     ]
    }
   ],
   "source": [
    "model.summary()"
   ]
  },
  {
   "cell_type": "code",
   "execution_count": 16,
   "metadata": {},
   "outputs": [
    {
     "name": "stdout",
     "output_type": "stream",
     "text": [
      "You must install pydot (`pip install pydot`) and install graphviz (see instructions at https://graphviz.gitlab.io/download/) for plot_model/model_to_dot to work.\n"
     ]
    }
   ],
   "source": [
    "import pydot #Neural Network Visualization\n",
    "keras.utils.plot_model(model)"
   ]
  },
  {
   "cell_type": "code",
   "execution_count": 17,
   "metadata": {},
   "outputs": [],
   "source": [
    "weights, biases  = model.layers[1].get_weights() #The number specifies which layer the weights are received from\n",
    "\n",
    "#In this case the second [from the top] layer which is Dense (bcs python is 0 index)"
   ]
  },
  {
   "cell_type": "code",
   "execution_count": 18,
   "metadata": {},
   "outputs": [
    {
     "data": {
      "text/plain": [
       "array([[-0.04986593, -0.05086488,  0.07296753, ...,  0.01788352,\n",
       "         0.0477285 ,  0.01823574],\n",
       "       [-0.02126148, -0.01598443, -0.04581056, ...,  0.00715864,\n",
       "         0.06246988,  0.03633376],\n",
       "       [-0.03952263,  0.05719508, -0.06481018, ...,  0.06806995,\n",
       "         0.01631102, -0.05362976],\n",
       "       ...,\n",
       "       [-0.02878685, -0.05567032, -0.03804825, ...,  0.07005405,\n",
       "         0.03780676,  0.06305934],\n",
       "       [ 0.00153633,  0.06636034, -0.05892414, ..., -0.05993695,\n",
       "         0.01740165, -0.06544223],\n",
       "       [-0.02299317, -0.07205971,  0.00733847, ...,  0.04868343,\n",
       "        -0.04285669, -0.04036905]], dtype=float32)"
      ]
     },
     "execution_count": 18,
     "metadata": {},
     "output_type": "execute_result"
    }
   ],
   "source": [
    "weights"
   ]
  },
  {
   "cell_type": "code",
   "execution_count": 19,
   "metadata": {},
   "outputs": [
    {
     "data": {
      "text/plain": [
       "(784, 300)"
      ]
     },
     "execution_count": 19,
     "metadata": {},
     "output_type": "execute_result"
    }
   ],
   "source": [
    "weights.shape"
   ]
  },
  {
   "cell_type": "code",
   "execution_count": 20,
   "metadata": {},
   "outputs": [
    {
     "data": {
      "text/plain": [
       "array([0., 0., 0., 0., 0., 0., 0., 0., 0., 0., 0., 0., 0., 0., 0., 0., 0.,\n",
       "       0., 0., 0., 0., 0., 0., 0., 0., 0., 0., 0., 0., 0., 0., 0., 0., 0.,\n",
       "       0., 0., 0., 0., 0., 0., 0., 0., 0., 0., 0., 0., 0., 0., 0., 0., 0.,\n",
       "       0., 0., 0., 0., 0., 0., 0., 0., 0., 0., 0., 0., 0., 0., 0., 0., 0.,\n",
       "       0., 0., 0., 0., 0., 0., 0., 0., 0., 0., 0., 0., 0., 0., 0., 0., 0.,\n",
       "       0., 0., 0., 0., 0., 0., 0., 0., 0., 0., 0., 0., 0., 0., 0., 0., 0.,\n",
       "       0., 0., 0., 0., 0., 0., 0., 0., 0., 0., 0., 0., 0., 0., 0., 0., 0.,\n",
       "       0., 0., 0., 0., 0., 0., 0., 0., 0., 0., 0., 0., 0., 0., 0., 0., 0.,\n",
       "       0., 0., 0., 0., 0., 0., 0., 0., 0., 0., 0., 0., 0., 0., 0., 0., 0.,\n",
       "       0., 0., 0., 0., 0., 0., 0., 0., 0., 0., 0., 0., 0., 0., 0., 0., 0.,\n",
       "       0., 0., 0., 0., 0., 0., 0., 0., 0., 0., 0., 0., 0., 0., 0., 0., 0.,\n",
       "       0., 0., 0., 0., 0., 0., 0., 0., 0., 0., 0., 0., 0., 0., 0., 0., 0.,\n",
       "       0., 0., 0., 0., 0., 0., 0., 0., 0., 0., 0., 0., 0., 0., 0., 0., 0.,\n",
       "       0., 0., 0., 0., 0., 0., 0., 0., 0., 0., 0., 0., 0., 0., 0., 0., 0.,\n",
       "       0., 0., 0., 0., 0., 0., 0., 0., 0., 0., 0., 0., 0., 0., 0., 0., 0.,\n",
       "       0., 0., 0., 0., 0., 0., 0., 0., 0., 0., 0., 0., 0., 0., 0., 0., 0.,\n",
       "       0., 0., 0., 0., 0., 0., 0., 0., 0., 0., 0., 0., 0., 0., 0., 0., 0.,\n",
       "       0., 0., 0., 0., 0., 0., 0., 0., 0., 0., 0.], dtype=float32)"
      ]
     },
     "execution_count": 20,
     "metadata": {},
     "output_type": "execute_result"
    }
   ],
   "source": [
    "biases #All start at zero"
   ]
  },
  {
   "cell_type": "code",
   "execution_count": 21,
   "metadata": {},
   "outputs": [
    {
     "name": "stdout",
     "output_type": "stream",
     "text": [
      "flatten\n",
      "[]\n",
      "dense\n",
      "[array([[-0.04986593, -0.05086488,  0.07296753, ...,  0.01788352,\n",
      "         0.0477285 ,  0.01823574],\n",
      "       [-0.02126148, -0.01598443, -0.04581056, ...,  0.00715864,\n",
      "         0.06246988,  0.03633376],\n",
      "       [-0.03952263,  0.05719508, -0.06481018, ...,  0.06806995,\n",
      "         0.01631102, -0.05362976],\n",
      "       ...,\n",
      "       [-0.02878685, -0.05567032, -0.03804825, ...,  0.07005405,\n",
      "         0.03780676,  0.06305934],\n",
      "       [ 0.00153633,  0.06636034, -0.05892414, ..., -0.05993695,\n",
      "         0.01740165, -0.06544223],\n",
      "       [-0.02299317, -0.07205971,  0.00733847, ...,  0.04868343,\n",
      "        -0.04285669, -0.04036905]], dtype=float32), array([0., 0., 0., 0., 0., 0., 0., 0., 0., 0., 0., 0., 0., 0., 0., 0., 0.,\n",
      "       0., 0., 0., 0., 0., 0., 0., 0., 0., 0., 0., 0., 0., 0., 0., 0., 0.,\n",
      "       0., 0., 0., 0., 0., 0., 0., 0., 0., 0., 0., 0., 0., 0., 0., 0., 0.,\n",
      "       0., 0., 0., 0., 0., 0., 0., 0., 0., 0., 0., 0., 0., 0., 0., 0., 0.,\n",
      "       0., 0., 0., 0., 0., 0., 0., 0., 0., 0., 0., 0., 0., 0., 0., 0., 0.,\n",
      "       0., 0., 0., 0., 0., 0., 0., 0., 0., 0., 0., 0., 0., 0., 0., 0., 0.,\n",
      "       0., 0., 0., 0., 0., 0., 0., 0., 0., 0., 0., 0., 0., 0., 0., 0., 0.,\n",
      "       0., 0., 0., 0., 0., 0., 0., 0., 0., 0., 0., 0., 0., 0., 0., 0., 0.,\n",
      "       0., 0., 0., 0., 0., 0., 0., 0., 0., 0., 0., 0., 0., 0., 0., 0., 0.,\n",
      "       0., 0., 0., 0., 0., 0., 0., 0., 0., 0., 0., 0., 0., 0., 0., 0., 0.,\n",
      "       0., 0., 0., 0., 0., 0., 0., 0., 0., 0., 0., 0., 0., 0., 0., 0., 0.,\n",
      "       0., 0., 0., 0., 0., 0., 0., 0., 0., 0., 0., 0., 0., 0., 0., 0., 0.,\n",
      "       0., 0., 0., 0., 0., 0., 0., 0., 0., 0., 0., 0., 0., 0., 0., 0., 0.,\n",
      "       0., 0., 0., 0., 0., 0., 0., 0., 0., 0., 0., 0., 0., 0., 0., 0., 0.,\n",
      "       0., 0., 0., 0., 0., 0., 0., 0., 0., 0., 0., 0., 0., 0., 0., 0., 0.,\n",
      "       0., 0., 0., 0., 0., 0., 0., 0., 0., 0., 0., 0., 0., 0., 0., 0., 0.,\n",
      "       0., 0., 0., 0., 0., 0., 0., 0., 0., 0., 0., 0., 0., 0., 0., 0., 0.,\n",
      "       0., 0., 0., 0., 0., 0., 0., 0., 0., 0., 0.], dtype=float32)]\n",
      "dense_1\n",
      "[array([[ 0.03407729, -0.07073203,  0.03273415, ...,  0.09674581,\n",
      "         0.03694981,  0.04060701],\n",
      "       [ 0.01402269, -0.08343032,  0.0811261 , ...,  0.05927414,\n",
      "         0.02833601,  0.11461309],\n",
      "       [ 0.09566725, -0.02617835,  0.08062071, ..., -0.11390312,\n",
      "        -0.04221848,  0.06431326],\n",
      "       ...,\n",
      "       [-0.03048173, -0.02715334,  0.01463113, ...,  0.10229246,\n",
      "         0.05374243, -0.02112985],\n",
      "       [ 0.06469133, -0.03975592, -0.08622657, ..., -0.07612721,\n",
      "        -0.05936177, -0.04837333],\n",
      "       [-0.06813266,  0.03732071,  0.09644312, ..., -0.09707665,\n",
      "        -0.09161277, -0.0839549 ]], dtype=float32), array([0., 0., 0., 0., 0., 0., 0., 0., 0., 0., 0., 0., 0., 0., 0., 0., 0.,\n",
      "       0., 0., 0., 0., 0., 0., 0., 0., 0., 0., 0., 0., 0., 0., 0., 0., 0.,\n",
      "       0., 0., 0., 0., 0., 0., 0., 0., 0., 0., 0., 0., 0., 0., 0., 0., 0.,\n",
      "       0., 0., 0., 0., 0., 0., 0., 0., 0., 0., 0., 0., 0., 0., 0., 0., 0.,\n",
      "       0., 0., 0., 0., 0., 0., 0., 0., 0., 0., 0., 0., 0., 0., 0., 0., 0.,\n",
      "       0., 0., 0., 0., 0., 0., 0., 0., 0., 0., 0., 0., 0., 0., 0.],\n",
      "      dtype=float32)]\n",
      "dense_2\n",
      "[array([[ 6.37795627e-02,  2.23537505e-01,  1.18730426e-01,\n",
      "        -1.16968006e-02, -1.59443766e-02, -3.21775228e-02,\n",
      "         1.85533911e-01,  1.44457370e-01, -2.91241556e-02,\n",
      "        -1.49328664e-01],\n",
      "       [ 2.08973289e-02, -9.64989215e-02,  1.72737330e-01,\n",
      "        -2.00796351e-01, -1.44657284e-01, -1.48292407e-01,\n",
      "         1.94740891e-02,  3.33856046e-02,  7.93749094e-02,\n",
      "         1.32204890e-01],\n",
      "       [-2.26938277e-02,  1.74357384e-01,  1.36677235e-01,\n",
      "         8.86251926e-02, -5.96692413e-02, -4.53475118e-02,\n",
      "        -1.60806566e-01, -1.36033267e-01, -1.50014952e-01,\n",
      "         9.38079059e-02],\n",
      "       [ 2.48175561e-02, -1.93570197e-01, -1.35096252e-01,\n",
      "        -1.42420739e-01, -2.17189193e-01,  2.20545977e-01,\n",
      "         2.24139601e-01,  1.83606029e-01, -2.02558145e-01,\n",
      "         8.08015466e-02],\n",
      "       [-2.17741400e-01, -1.73655003e-02,  8.45968723e-02,\n",
      "        -1.93539575e-01, -5.52757084e-02, -5.53129613e-02,\n",
      "         3.61141562e-02,  4.72923815e-02,  6.75542653e-02,\n",
      "        -9.26500857e-02],\n",
      "       [-7.07821399e-02,  1.38407201e-01, -3.69882733e-02,\n",
      "        -1.73036247e-01, -1.46759912e-01,  1.30228430e-01,\n",
      "        -1.60753340e-01,  9.09948349e-03, -2.21709162e-02,\n",
      "         1.53106391e-01],\n",
      "       [ 2.31642097e-01, -5.23276031e-02,  1.47544533e-01,\n",
      "        -2.03094646e-01, -1.67846352e-01, -1.72352135e-01,\n",
      "        -5.29452264e-02,  2.24427581e-02,  4.59363461e-02,\n",
      "         1.72020823e-01],\n",
      "       [ 2.57534087e-02,  5.24328351e-02,  7.65263140e-02,\n",
      "        -1.98299587e-02,  2.32508600e-01, -1.25593007e-01,\n",
      "         9.03085172e-02, -1.34153098e-01, -1.00987107e-02,\n",
      "        -1.54847980e-01],\n",
      "       [ 1.91456616e-01, -5.32964170e-02,  1.45262986e-01,\n",
      "        -2.28358731e-01, -9.52222943e-03, -1.79358125e-02,\n",
      "         1.19550884e-01, -2.10195184e-01,  6.20654225e-03,\n",
      "         9.28179026e-02],\n",
      "       [ 2.14937955e-01, -1.63583010e-01,  2.30986834e-01,\n",
      "         1.90030009e-01, -1.75327197e-01, -2.07384333e-01,\n",
      "         1.89508557e-01,  1.11922115e-01,  1.31996721e-02,\n",
      "        -4.53221202e-02],\n",
      "       [-2.04053611e-01, -1.11709237e-02,  2.51737535e-02,\n",
      "        -1.00572094e-01,  1.68041348e-01,  1.84920132e-01,\n",
      "         1.13125294e-01, -3.79504114e-02,  6.67317212e-02,\n",
      "         1.12805068e-02],\n",
      "       [-1.58009917e-01, -5.43198138e-02,  2.07929522e-01,\n",
      "         1.75659448e-01,  1.38234973e-01, -1.42895266e-01,\n",
      "         1.18946791e-01, -3.68267298e-02,  1.03982717e-01,\n",
      "        -8.55129659e-02],\n",
      "       [ 2.14045644e-02, -1.48748606e-01, -8.82779509e-02,\n",
      "        -5.05923033e-02,  2.09772885e-02, -9.46551561e-04,\n",
      "         4.95122969e-02, -4.80957180e-02, -3.00950408e-02,\n",
      "        -3.09493244e-02],\n",
      "       [ 1.53245151e-01, -4.86120135e-02, -1.52719453e-01,\n",
      "         5.38856983e-02,  2.39504576e-02, -2.25463688e-01,\n",
      "        -2.33228281e-01, -1.52423054e-01, -1.05392709e-01,\n",
      "        -1.99841231e-01],\n",
      "       [ 1.20171428e-01, -2.29850531e-01, -1.03517652e-01,\n",
      "         2.13536650e-01, -1.26202852e-01, -2.24821106e-01,\n",
      "         2.20910192e-01, -2.23354310e-01,  5.79376221e-02,\n",
      "         1.84472501e-01],\n",
      "       [-7.69323409e-02, -1.81772619e-01, -2.27566421e-01,\n",
      "         8.66189301e-02, -2.20779434e-01,  7.13888109e-02,\n",
      "        -1.96225941e-02, -1.68148488e-01,  3.51758599e-02,\n",
      "        -2.30712444e-02],\n",
      "       [ 1.44009143e-01, -2.01623634e-01,  2.07325816e-02,\n",
      "         1.87529862e-01,  1.85614616e-01,  5.06442487e-02,\n",
      "        -2.52090693e-02,  1.02167636e-01, -1.00257546e-02,\n",
      "         5.94357550e-02],\n",
      "       [-1.70132279e-01, -1.46988332e-01,  1.70749098e-01,\n",
      "         1.90686345e-01,  1.40080452e-01, -1.52688652e-01,\n",
      "         1.02471769e-01, -2.29025587e-01, -1.17664985e-01,\n",
      "        -1.30277872e-01],\n",
      "       [-1.55684650e-02,  1.83368772e-01, -2.13434011e-01,\n",
      "        -1.78371191e-01,  2.62009799e-02, -1.35607362e-01,\n",
      "         5.40311038e-02,  1.43798590e-02, -2.29684591e-01,\n",
      "        -2.14301497e-01],\n",
      "       [ 2.22127348e-01, -2.92049050e-02, -2.20135525e-01,\n",
      "        -3.12194973e-02,  7.71466494e-02,  2.30029225e-02,\n",
      "         2.35514343e-03, -2.00184733e-01, -2.17465326e-01,\n",
      "         1.17001086e-01],\n",
      "       [-1.37218535e-01, -1.13869712e-01,  1.26407653e-01,\n",
      "        -8.51150602e-02, -1.75982416e-01, -2.05908626e-01,\n",
      "        -1.96569160e-01,  1.85715675e-01, -1.47568285e-02,\n",
      "         2.03338653e-01],\n",
      "       [ 1.74004674e-01,  8.25698674e-02,  1.17030859e-01,\n",
      "        -1.05717614e-01,  1.34222090e-01,  4.51020002e-02,\n",
      "        -4.19262052e-03,  9.72239673e-02, -3.65507156e-02,\n",
      "        -1.52778640e-01],\n",
      "       [-2.26357728e-01,  1.56380743e-01,  1.31403267e-01,\n",
      "         7.08316565e-02, -1.18000753e-01,  8.83609056e-02,\n",
      "         1.28524542e-01, -9.28024948e-02, -1.18961610e-01,\n",
      "         1.47463679e-01],\n",
      "       [-1.50309235e-01, -2.30314031e-01, -8.45488310e-02,\n",
      "        -2.08144903e-01,  2.28418410e-02, -1.11302473e-01,\n",
      "         8.37694407e-02, -5.72869033e-02, -5.28746843e-02,\n",
      "        -2.26790756e-02],\n",
      "       [ 1.32885605e-01, -2.24563956e-01,  1.76641524e-01,\n",
      "         8.83415341e-02, -1.14952296e-01,  1.37868136e-01,\n",
      "        -1.26427308e-01,  1.77850962e-01,  7.83510804e-02,\n",
      "        -1.18767112e-01],\n",
      "       [-9.57599580e-02, -2.05314994e-01, -1.97247714e-02,\n",
      "        -3.38795632e-02,  2.23732293e-01, -1.91706121e-01,\n",
      "        -6.09656423e-02, -1.08294770e-01, -1.72748759e-01,\n",
      "         1.94795877e-01],\n",
      "       [-1.55852050e-01, -1.77134201e-01, -2.32287079e-01,\n",
      "         1.59421086e-01, -5.70663512e-02, -1.54207513e-01,\n",
      "        -8.36977214e-02, -5.44032156e-02,  7.81993866e-02,\n",
      "        -3.22219580e-02],\n",
      "       [-6.64664060e-02,  3.88437212e-02,  1.07941180e-01,\n",
      "        -8.05523247e-02, -2.21963078e-02,  1.49433404e-01,\n",
      "        -8.28118026e-02,  1.32598728e-01, -1.53554201e-01,\n",
      "        -1.03586137e-01],\n",
      "       [-8.68436694e-02,  2.28485972e-01,  4.01253998e-03,\n",
      "        -1.94453552e-01,  1.89732850e-01, -1.97897568e-01,\n",
      "         2.25984991e-01, -8.43603462e-02,  1.44603282e-01,\n",
      "         5.94419241e-02],\n",
      "       [-1.22604698e-01,  1.38020545e-01, -9.98535156e-02,\n",
      "        -1.25745147e-01,  2.30346441e-01,  9.96227264e-02,\n",
      "         1.92441463e-01, -2.06176683e-01, -2.11089164e-01,\n",
      "         2.33131617e-01],\n",
      "       [-1.57612950e-01,  4.81545329e-02, -3.29514444e-02,\n",
      "         1.73173279e-01, -6.62719011e-02, -2.61932611e-04,\n",
      "         8.24769437e-02, -2.87921280e-02, -1.30473986e-01,\n",
      "        -3.26716900e-03],\n",
      "       [-1.52757823e-01, -1.12938538e-01,  2.67005265e-02,\n",
      "        -1.40865028e-01, -4.02247608e-02,  1.27152473e-01,\n",
      "         1.91911817e-01,  1.03627682e-01,  7.33919740e-02,\n",
      "         1.63760930e-01],\n",
      "       [ 1.41597927e-01, -1.71067640e-01, -1.71043813e-01,\n",
      "        -1.18286349e-01,  5.97562194e-02,  1.42768472e-01,\n",
      "        -1.43182755e-01, -1.78268626e-01,  6.13025129e-02,\n",
      "         1.45193517e-01],\n",
      "       [-4.79283929e-02,  7.40159750e-02,  6.59066737e-02,\n",
      "         1.61579549e-01, -2.11469531e-01,  1.53552592e-02,\n",
      "         1.85479850e-01,  5.35761714e-02,  4.71875966e-02,\n",
      "        -9.42678750e-03],\n",
      "       [-7.52232224e-02,  2.47196853e-02,  7.43269920e-02,\n",
      "        -1.88077331e-01, -9.10106748e-02,  5.45149744e-02,\n",
      "        -1.65836483e-01, -3.53539884e-02, -1.02857351e-02,\n",
      "        -2.85578668e-02],\n",
      "       [-2.27425605e-01,  2.29366034e-01, -1.36574119e-01,\n",
      "        -1.29451260e-01,  1.99770629e-01, -1.59724444e-01,\n",
      "        -1.45573765e-02,  1.97783142e-01, -2.08683282e-01,\n",
      "         1.64747387e-01],\n",
      "       [-6.81042522e-02,  2.30604976e-01, -5.87038696e-02,\n",
      "        -2.14136451e-01,  1.17569864e-02, -8.31106007e-02,\n",
      "         1.28531039e-01, -1.93868160e-01, -3.16097289e-02,\n",
      "         1.37679368e-01],\n",
      "       [ 2.09428370e-01, -1.14450008e-02, -1.11445576e-01,\n",
      "        -4.16274667e-02,  9.84679163e-02, -4.28733677e-02,\n",
      "         1.75785124e-01, -3.86926532e-03, -1.38945699e-01,\n",
      "        -2.13838831e-01],\n",
      "       [ 4.19633389e-02,  5.03693521e-02, -1.92367673e-01,\n",
      "         9.06720161e-02, -2.61431932e-02,  2.09956408e-01,\n",
      "        -1.47667974e-01, -8.78247619e-03, -1.97681412e-01,\n",
      "         7.24633038e-02],\n",
      "       [-1.81927830e-02,  2.13786542e-01, -1.50087669e-01,\n",
      "        -1.88339487e-01, -9.63834971e-02,  6.23618066e-02,\n",
      "         5.28783500e-02,  1.89221293e-01,  9.52556431e-02,\n",
      "        -2.13970572e-01],\n",
      "       [-1.52298540e-01, -7.48522580e-02,  2.88368464e-02,\n",
      "        -1.09822318e-01,  1.50451958e-01,  1.13332868e-01,\n",
      "         1.34632856e-01,  1.73966885e-02,  3.02594900e-02,\n",
      "        -2.31897384e-02],\n",
      "       [-1.35308951e-01,  8.00230503e-02, -9.78239477e-02,\n",
      "        -2.02603191e-01,  6.39301240e-02,  9.17274356e-02,\n",
      "         3.69848609e-02,  2.02445120e-01,  1.05866581e-01,\n",
      "        -7.97209740e-02],\n",
      "       [-1.37127385e-01, -1.59418076e-01,  1.02106422e-01,\n",
      "         1.15375876e-01,  1.36943966e-01,  1.40865415e-01,\n",
      "         1.15168959e-01, -6.23356551e-02, -9.13631469e-02,\n",
      "        -4.46242988e-02],\n",
      "       [ 1.60449803e-01, -7.14328885e-03,  1.85426503e-01,\n",
      "        -4.50724363e-02,  8.40892196e-02, -2.55508423e-02,\n",
      "        -1.51170522e-01,  3.41976285e-02, -2.02087522e-01,\n",
      "         7.21827149e-02],\n",
      "       [ 6.56180084e-03,  1.87045097e-01, -2.25704730e-01,\n",
      "        -1.17852859e-01, -1.86175108e-01,  6.99698031e-02,\n",
      "        -2.00841844e-01, -4.55619991e-02, -1.50645286e-01,\n",
      "         1.30688637e-01],\n",
      "       [-1.21850252e-01,  7.21012056e-03,  1.67783797e-02,\n",
      "         1.93896383e-01, -2.15603560e-02, -6.58118576e-02,\n",
      "        -1.02766156e-01,  1.78152621e-02,  1.94653004e-01,\n",
      "        -1.62451655e-01],\n",
      "       [-2.30263248e-01,  7.89403617e-02,  2.27499813e-01,\n",
      "         3.11416686e-02, -1.99291646e-01, -3.89249623e-02,\n",
      "        -1.04492486e-01, -1.29791081e-01, -1.39040083e-01,\n",
      "         9.99369919e-02],\n",
      "       [-2.06745088e-01,  2.68485844e-02,  2.11190343e-01,\n",
      "         8.29682052e-02,  4.42944467e-03, -3.79122049e-02,\n",
      "        -7.33765066e-02, -1.93984091e-01, -4.64031398e-02,\n",
      "         5.74850738e-02],\n",
      "       [-1.24643572e-01,  6.43946230e-03,  1.65855318e-01,\n",
      "         1.38915122e-01,  1.09834999e-01,  1.34370267e-01,\n",
      "         2.06082970e-01, -5.53472638e-02, -1.88535050e-01,\n",
      "         2.12816775e-01],\n",
      "       [-1.69442832e-01,  1.56932563e-01,  8.44587386e-02,\n",
      "        -1.25811726e-01, -1.82962507e-01,  1.60211980e-01,\n",
      "         9.65728760e-02,  5.54382801e-04,  1.70905620e-01,\n",
      "        -1.61319673e-01],\n",
      "       [-1.86505973e-01, -1.21316537e-01,  1.47580355e-01,\n",
      "         1.24617904e-01,  2.16174811e-01, -3.82871181e-02,\n",
      "        -4.28476334e-02,  7.49062300e-02, -2.11460352e-01,\n",
      "         2.26805061e-01],\n",
      "       [ 4.73266244e-02,  6.44877255e-02, -9.46093947e-02,\n",
      "        -3.20900977e-02, -1.05255783e-01,  1.00250632e-01,\n",
      "         1.91969573e-02,  1.69250160e-01,  1.35388374e-01,\n",
      "        -1.32988840e-01],\n",
      "       [-3.77746820e-02, -1.09160528e-01, -4.55534756e-02,\n",
      "         3.24017406e-02, -1.10020600e-01,  1.13369673e-01,\n",
      "        -6.66593015e-03, -1.03194803e-01, -2.19117761e-01,\n",
      "        -2.84859836e-02],\n",
      "       [ 8.58079791e-02, -4.15621996e-02,  1.01939738e-02,\n",
      "        -1.47619158e-01,  1.22163147e-01, -4.45451140e-02,\n",
      "        -1.54000700e-01,  6.58623576e-02,  4.45384383e-02,\n",
      "         1.51279390e-01],\n",
      "       [-1.64520651e-01,  1.74749553e-01, -1.22752786e-03,\n",
      "         1.78439915e-03, -2.13563263e-01, -9.72559303e-02,\n",
      "         9.44500864e-02, -2.21643358e-01, -1.01604179e-01,\n",
      "         1.72750145e-01],\n",
      "       [ 1.93034530e-01,  1.05484754e-01, -2.20199674e-01,\n",
      "         2.18527913e-01,  2.18049705e-01,  2.04829544e-01,\n",
      "         1.47932768e-01,  6.26094341e-02,  1.54905319e-01,\n",
      "        -1.11282982e-01],\n",
      "       [ 2.20917821e-01,  1.82096750e-01, -1.62690580e-02,\n",
      "        -1.42958075e-01, -2.28189394e-01, -2.53876448e-02,\n",
      "         1.17150873e-01, -5.70440292e-02, -2.76269168e-02,\n",
      "        -2.08461002e-01],\n",
      "       [ 1.22680157e-01,  8.35221410e-02,  8.27960968e-02,\n",
      "        -1.99157834e-01,  2.17052996e-02, -7.82272965e-02,\n",
      "        -1.80628121e-01,  2.02176273e-01,  6.18136823e-02,\n",
      "        -1.44331217e-01],\n",
      "       [-2.83483863e-02,  8.13811123e-02, -2.30314031e-01,\n",
      "        -1.44158691e-01, -2.62971520e-02,  1.46496594e-01,\n",
      "         1.34105772e-01, -6.70079142e-02,  1.31447375e-01,\n",
      "         2.10164487e-02],\n",
      "       [ 9.09149051e-02,  2.77414918e-04, -3.52224112e-02,\n",
      "         1.06597841e-01,  1.12459004e-01,  1.13869548e-01,\n",
      "        -1.46008030e-01,  8.96165967e-02,  1.86788619e-01,\n",
      "         2.03937083e-01],\n",
      "       [-4.94528711e-02,  4.45033610e-02,  1.59787357e-01,\n",
      "        -5.01445085e-02, -8.88836533e-02, -1.41315997e-01,\n",
      "         5.48794866e-02,  1.15265459e-01, -2.19702378e-01,\n",
      "         1.96566433e-01],\n",
      "       [ 1.40592456e-04, -1.62282944e-01, -1.79197803e-01,\n",
      "        -1.07655197e-01,  1.62348300e-01,  8.99612904e-04,\n",
      "        -3.87842506e-02,  1.73579931e-01,  1.56977445e-01,\n",
      "         2.32901037e-01],\n",
      "       [ 1.91554815e-01,  2.13940233e-01,  1.00246131e-01,\n",
      "         1.63798630e-02, -1.35092244e-01, -1.60849214e-01,\n",
      "         1.73402637e-01, -2.04356864e-01,  6.96808100e-02,\n",
      "        -7.62349069e-02],\n",
      "       [ 1.85055286e-01,  2.92629004e-03, -1.68489963e-02,\n",
      "         4.41937149e-02,  2.07554489e-01,  5.59085011e-02,\n",
      "         1.25488341e-01, -2.16119140e-01,  1.42908901e-01,\n",
      "         1.81518197e-01],\n",
      "       [-1.00552112e-01,  1.69678599e-01,  2.32800633e-01,\n",
      "        -1.02212280e-01,  1.90569460e-01,  8.21354389e-02,\n",
      "        -1.87529638e-01, -1.65863097e-01,  1.45421147e-01,\n",
      "        -1.92017823e-01],\n",
      "       [ 2.22181261e-01, -1.88566342e-01, -8.71248692e-02,\n",
      "        -4.04086858e-02, -3.99236381e-02, -5.21766394e-02,\n",
      "         1.52415484e-01, -6.64719790e-02, -7.32779950e-02,\n",
      "        -4.49115634e-02],\n",
      "       [-3.73547226e-02, -2.22649366e-01, -2.26823673e-01,\n",
      "         9.32888091e-02, -1.31388456e-01, -1.62756130e-01,\n",
      "        -1.42845809e-01, -1.22722246e-01, -1.70237929e-01,\n",
      "         1.34289116e-02],\n",
      "       [-7.26009011e-02, -1.10841863e-01,  4.32214439e-02,\n",
      "         1.87472612e-01, -1.22131065e-01,  1.54780149e-01,\n",
      "         1.60771161e-01, -2.33139589e-01,  2.21931070e-01,\n",
      "        -2.01218039e-01],\n",
      "       [ 1.12146109e-01, -8.87124240e-03, -2.12155819e-01,\n",
      "        -2.34806240e-02,  9.38412547e-03, -1.23115972e-01,\n",
      "         1.49217963e-01, -1.55011401e-01,  7.82120228e-02,\n",
      "        -2.24395350e-01],\n",
      "       [ 4.82877791e-02,  1.46807581e-01,  2.06731558e-02,\n",
      "        -8.42653960e-02,  6.09624386e-03, -2.10587025e-01,\n",
      "         1.52824223e-02, -2.24886760e-01, -9.80467796e-02,\n",
      "         2.11350530e-01],\n",
      "       [-1.54167369e-01,  2.02323407e-01, -1.64236456e-01,\n",
      "         7.84200728e-02,  2.14701623e-01,  2.05048889e-01,\n",
      "        -1.63086504e-01,  3.47532928e-02,  8.74266028e-03,\n",
      "         2.92322934e-02],\n",
      "       [ 1.49281621e-02,  1.66846812e-02, -5.16347438e-02,\n",
      "         8.59671831e-03, -1.88860953e-01,  1.99293643e-01,\n",
      "         4.97194231e-02,  1.33430272e-01,  1.62548274e-01,\n",
      "         2.02326685e-01],\n",
      "       [-2.44393051e-02, -1.25845984e-01,  7.61120021e-03,\n",
      "        -1.62501037e-01,  7.48865604e-02,  6.74460828e-03,\n",
      "         1.80278420e-02,  8.36084485e-02, -8.82788897e-02,\n",
      "         1.22563869e-01],\n",
      "       [ 9.84017551e-02, -1.94103807e-01,  3.41630578e-02,\n",
      "         1.35478169e-01,  1.70221776e-01, -2.64823437e-04,\n",
      "        -2.59313732e-02,  1.36355966e-01,  1.58373624e-01,\n",
      "         1.11498684e-01],\n",
      "       [-1.10515393e-01,  2.11772680e-01, -7.73238987e-02,\n",
      "        -2.91019529e-02,  1.15565985e-01,  1.71464890e-01,\n",
      "         2.26151198e-01, -1.00773901e-01, -1.41726255e-01,\n",
      "        -3.29251587e-03],\n",
      "       [-2.40084380e-02, -1.75432861e-03,  1.13395900e-01,\n",
      "         3.78634930e-02, -1.78972572e-01,  1.62226707e-01,\n",
      "         1.18055761e-01,  3.95271778e-02, -7.65981376e-02,\n",
      "        -1.18765607e-01],\n",
      "       [ 7.76593387e-02, -1.16624892e-01, -1.56572163e-02,\n",
      "        -9.26987529e-02,  2.74416506e-02,  1.38730496e-01,\n",
      "        -1.74329370e-01,  7.03842938e-02, -2.32959837e-02,\n",
      "        -2.26872116e-01],\n",
      "       [ 1.10075563e-01,  5.89789450e-02,  7.52115846e-02,\n",
      "        -8.53454769e-02, -9.18113887e-02, -4.39650267e-02,\n",
      "         2.16690779e-01,  2.22164482e-01,  3.02227139e-02,\n",
      "        -7.34553486e-02],\n",
      "       [ 8.79928470e-02,  2.27279603e-01, -2.22607002e-01,\n",
      "        -2.83931643e-02,  1.40447915e-03,  9.39570069e-02,\n",
      "        -1.82922304e-01, -2.26593092e-01, -9.62883830e-02,\n",
      "         1.70053989e-01],\n",
      "       [-1.49719268e-01, -2.16285020e-01,  1.48590267e-01,\n",
      "         6.36442602e-02, -1.41481146e-01, -1.64246917e-01,\n",
      "         1.77926958e-01, -1.19686097e-01, -1.71723142e-01,\n",
      "         6.13249540e-02],\n",
      "       [-1.19412802e-01, -2.69475877e-02,  3.37630808e-02,\n",
      "        -5.91513813e-02,  1.46554500e-01,  2.09658295e-01,\n",
      "        -1.94286048e-01,  7.80374110e-02, -2.14659646e-01,\n",
      "        -6.06794804e-02],\n",
      "       [ 7.79319108e-02, -3.92439663e-02,  2.03111291e-01,\n",
      "        -1.42518342e-01, -7.98974335e-02,  2.25069106e-01,\n",
      "         1.05949432e-01,  1.98474765e-01, -4.92431670e-02,\n",
      "         1.76664412e-01],\n",
      "       [-2.24242061e-02,  1.67136788e-02, -7.68587291e-02,\n",
      "         8.29381049e-02,  2.69529819e-02, -2.09422693e-01,\n",
      "        -2.12135449e-01, -1.42163649e-01, -1.88796222e-02,\n",
      "         5.54736555e-02],\n",
      "       [-1.16451323e-01, -2.13175476e-01, -1.30837262e-01,\n",
      "        -6.47728741e-02,  7.85135627e-02,  1.36270374e-01,\n",
      "         7.42170215e-02, -1.17503673e-01,  1.50332570e-01,\n",
      "        -8.01692754e-02],\n",
      "       [-1.67186677e-01,  6.74219728e-02,  1.88657314e-01,\n",
      "         1.30040258e-01, -3.74848545e-02,  1.19166136e-01,\n",
      "         1.43704832e-01, -1.23720907e-01, -1.64781585e-01,\n",
      "         2.09869444e-02],\n",
      "       [-1.56045437e-01, -2.11528391e-01, -1.09289885e-02,\n",
      "        -2.04102725e-01,  1.33400947e-01,  3.19735408e-02,\n",
      "         4.22226489e-02,  1.40475869e-01,  1.30637646e-01,\n",
      "         1.77878410e-01],\n",
      "       [-3.83452475e-02,  2.16289192e-01,  8.81954134e-02,\n",
      "         7.23123550e-02,  1.66162401e-01,  2.13360846e-01,\n",
      "         2.00411916e-01, -1.69939190e-01, -1.15546539e-01,\n",
      "        -1.88320890e-01],\n",
      "       [ 1.26180291e-01, -2.05509961e-02, -5.17724901e-02,\n",
      "         1.77094042e-02, -1.11461885e-01,  2.36753523e-02,\n",
      "        -1.93302333e-03, -2.65831500e-02,  1.01580679e-01,\n",
      "         1.18667930e-01],\n",
      "       [ 2.21829176e-01,  2.22620249e-01,  1.00353390e-01,\n",
      "        -1.96753889e-02, -5.10071963e-02, -1.17536522e-01,\n",
      "         4.81925011e-02,  7.42772818e-02, -2.31754780e-02,\n",
      "         1.54569179e-01],\n",
      "       [-6.68525696e-03, -1.75874338e-01,  1.82288587e-02,\n",
      "         2.00353950e-01,  1.41431481e-01, -1.92377418e-01,\n",
      "         1.47873551e-01, -1.27713233e-01, -1.57936364e-01,\n",
      "        -1.60518587e-01],\n",
      "       [ 2.52345204e-02,  3.41962874e-02,  2.32211292e-01,\n",
      "         1.93666250e-01,  2.04627424e-01, -1.47193566e-01,\n",
      "        -2.05312654e-01,  6.34883344e-02,  1.26296073e-01,\n",
      "        -1.33218691e-01],\n",
      "       [-7.12676942e-02, -1.04068354e-01,  2.24603325e-01,\n",
      "         3.89286280e-02,  1.47519708e-01, -3.76246721e-02,\n",
      "         1.19502783e-01,  1.96464419e-01,  1.25816733e-01,\n",
      "        -1.42224222e-01],\n",
      "       [-1.39947817e-01, -2.07860023e-01,  1.95103824e-01,\n",
      "         1.78663522e-01,  3.53105366e-03, -2.25118175e-01,\n",
      "        -1.00991726e-01, -1.48724556e-01, -4.40594554e-02,\n",
      "        -5.07337898e-02],\n",
      "       [-9.82826054e-02,  1.11031234e-01,  1.44433647e-01,\n",
      "        -7.21330047e-02, -1.38700008e-03, -2.18582377e-01,\n",
      "        -8.33392888e-02,  2.00877100e-01,  1.87546641e-01,\n",
      "        -1.93731517e-01],\n",
      "       [-7.01993704e-04,  1.51872367e-01,  2.17895806e-01,\n",
      "         1.80848747e-01,  5.43477535e-02,  1.19529963e-01,\n",
      "         1.50948733e-01,  1.02472931e-01, -1.05295762e-01,\n",
      "        -2.72350162e-02],\n",
      "       [ 1.83751643e-01, -2.29366526e-01,  6.76508248e-02,\n",
      "        -3.90216857e-02,  1.14358157e-01, -2.30864003e-01,\n",
      "        -1.13161318e-01, -7.27792531e-02,  6.92669153e-02,\n",
      "        -2.01447457e-01],\n",
      "       [-1.03998244e-01, -9.20668095e-02,  1.32953912e-01,\n",
      "        -3.14150006e-02, -1.89783677e-01,  1.43711269e-03,\n",
      "        -1.78240627e-01,  1.02851421e-01,  1.39219254e-01,\n",
      "        -1.31469309e-01],\n",
      "       [-2.15295494e-01,  1.19475275e-02,  1.76878631e-01,\n",
      "         2.11122006e-01, -2.03948990e-01,  5.28071821e-02,\n",
      "         1.62672102e-01, -4.78817821e-02,  1.35440081e-02,\n",
      "         1.03179425e-01],\n",
      "       [ 8.06654096e-02, -1.89972937e-01, -1.48234814e-02,\n",
      "         5.29367626e-02, -1.00317746e-01,  1.44733518e-01,\n",
      "        -6.34353310e-02,  3.49318087e-02, -1.11086667e-03,\n",
      "        -1.95947289e-01],\n",
      "       [-1.71643123e-01,  5.92982173e-02,  2.25456327e-01,\n",
      "        -5.93354702e-02, -1.06769353e-01,  1.92046165e-04,\n",
      "         7.55134225e-03,  2.82116234e-03, -1.74939096e-01,\n",
      "         1.09200060e-01]], dtype=float32), array([0., 0., 0., 0., 0., 0., 0., 0., 0., 0.], dtype=float32)]\n"
     ]
    }
   ],
   "source": [
    "for m in model.layers:\n",
    "    print(m.name)\n",
    "    print(m.get_weights())"
   ]
  },
  {
   "cell_type": "code",
   "execution_count": 24,
   "metadata": {},
   "outputs": [],
   "source": [
    "model.compile(loss=\"sparse_categorical_crossentropy\", optimizer=\"sgd\", metrics=[\"accuracy\"])"
   ]
  },
  {
   "cell_type": "code",
   "execution_count": 29,
   "metadata": {},
   "outputs": [
    {
     "name": "stdout",
     "output_type": "stream",
     "text": [
      "Epoch 1/30\n",
      "1719/1719 [==============================] - 4s 3ms/step - loss: 0.2222 - accuracy: 0.9201 - val_loss: 0.3006 - val_accuracy: 0.8946\n",
      "Epoch 2/30\n",
      "1719/1719 [==============================] - 5s 3ms/step - loss: 0.2185 - accuracy: 0.9213 - val_loss: 0.3019 - val_accuracy: 0.8926\n",
      "Epoch 3/30\n",
      "1719/1719 [==============================] - 5s 3ms/step - loss: 0.2143 - accuracy: 0.9233 - val_loss: 0.2975 - val_accuracy: 0.8920\n",
      "Epoch 4/30\n",
      "1719/1719 [==============================] - 4s 3ms/step - loss: 0.2119 - accuracy: 0.9236 - val_loss: 0.2928 - val_accuracy: 0.8904\n",
      "Epoch 5/30\n",
      "1719/1719 [==============================] - 4s 2ms/step - loss: 0.2080 - accuracy: 0.9247 - val_loss: 0.2917 - val_accuracy: 0.8946\n",
      "Epoch 6/30\n",
      "1719/1719 [==============================] - 5s 3ms/step - loss: 0.2045 - accuracy: 0.9263 - val_loss: 0.3115 - val_accuracy: 0.8846\n",
      "Epoch 7/30\n",
      "1719/1719 [==============================] - 4s 2ms/step - loss: 0.2012 - accuracy: 0.9286 - val_loss: 0.3177 - val_accuracy: 0.8840\n",
      "Epoch 8/30\n",
      "1719/1719 [==============================] - 4s 2ms/step - loss: 0.1970 - accuracy: 0.9302 - val_loss: 0.2932 - val_accuracy: 0.8948\n",
      "Epoch 9/30\n",
      "1719/1719 [==============================] - 4s 3ms/step - loss: 0.1944 - accuracy: 0.9303 - val_loss: 0.3195 - val_accuracy: 0.8892\n",
      "Epoch 10/30\n",
      "1719/1719 [==============================] - 6s 3ms/step - loss: 0.1919 - accuracy: 0.9313 - val_loss: 0.3098 - val_accuracy: 0.8858\n",
      "Epoch 11/30\n",
      "1719/1719 [==============================] - 5s 3ms/step - loss: 0.1896 - accuracy: 0.9320 - val_loss: 0.3087 - val_accuracy: 0.8908\n",
      "Epoch 12/30\n",
      "1719/1719 [==============================] - 5s 3ms/step - loss: 0.1854 - accuracy: 0.9333 - val_loss: 0.3007 - val_accuracy: 0.8934\n",
      "Epoch 13/30\n",
      "1719/1719 [==============================] - 5s 3ms/step - loss: 0.1832 - accuracy: 0.9337 - val_loss: 0.3123 - val_accuracy: 0.8908\n",
      "Epoch 14/30\n",
      "1719/1719 [==============================] - 4s 3ms/step - loss: 0.1803 - accuracy: 0.9357 - val_loss: 0.2968 - val_accuracy: 0.8944\n",
      "Epoch 15/30\n",
      "1719/1719 [==============================] - 6s 3ms/step - loss: 0.1769 - accuracy: 0.9370 - val_loss: 0.2925 - val_accuracy: 0.8924\n",
      "Epoch 16/30\n",
      "1719/1719 [==============================] - 4s 2ms/step - loss: 0.1732 - accuracy: 0.9386 - val_loss: 0.2924 - val_accuracy: 0.9000\n",
      "Epoch 17/30\n",
      "1719/1719 [==============================] - 4s 2ms/step - loss: 0.1701 - accuracy: 0.9394 - val_loss: 0.2963 - val_accuracy: 0.8978\n",
      "Epoch 18/30\n",
      "1719/1719 [==============================] - 4s 2ms/step - loss: 0.1687 - accuracy: 0.9399 - val_loss: 0.3056 - val_accuracy: 0.8878\n",
      "Epoch 19/30\n",
      "1719/1719 [==============================] - 5s 3ms/step - loss: 0.1649 - accuracy: 0.9416 - val_loss: 0.2948 - val_accuracy: 0.8966\n",
      "Epoch 20/30\n",
      "1719/1719 [==============================] - 6s 3ms/step - loss: 0.1632 - accuracy: 0.9425 - val_loss: 0.3060 - val_accuracy: 0.8964\n",
      "Epoch 21/30\n",
      "1719/1719 [==============================] - 4s 2ms/step - loss: 0.1608 - accuracy: 0.9429 - val_loss: 0.3161 - val_accuracy: 0.8910\n",
      "Epoch 22/30\n",
      "1719/1719 [==============================] - 5s 3ms/step - loss: 0.1576 - accuracy: 0.9436 - val_loss: 0.2941 - val_accuracy: 0.8968\n",
      "Epoch 23/30\n",
      "1719/1719 [==============================] - 5s 3ms/step - loss: 0.1555 - accuracy: 0.9443 - val_loss: 0.2983 - val_accuracy: 0.8992\n",
      "Epoch 24/30\n",
      "1719/1719 [==============================] - 5s 3ms/step - loss: 0.1533 - accuracy: 0.9455 - val_loss: 0.3171 - val_accuracy: 0.8932\n",
      "Epoch 25/30\n",
      "1719/1719 [==============================] - 5s 3ms/step - loss: 0.1500 - accuracy: 0.9471 - val_loss: 0.2877 - val_accuracy: 0.8988\n",
      "Epoch 26/30\n",
      "1719/1719 [==============================] - 5s 3ms/step - loss: 0.1483 - accuracy: 0.9484 - val_loss: 0.2973 - val_accuracy: 0.8956\n",
      "Epoch 27/30\n",
      "1719/1719 [==============================] - 5s 3ms/step - loss: 0.1441 - accuracy: 0.9489 - val_loss: 0.2989 - val_accuracy: 0.8992\n",
      "Epoch 28/30\n",
      "1719/1719 [==============================] - 4s 2ms/step - loss: 0.1437 - accuracy: 0.9490 - val_loss: 0.2964 - val_accuracy: 0.8982\n",
      "Epoch 29/30\n",
      "1719/1719 [==============================] - 4s 2ms/step - loss: 0.1413 - accuracy: 0.9511 - val_loss: 0.3129 - val_accuracy: 0.8952\n",
      "Epoch 30/30\n",
      "1719/1719 [==============================] - 4s 2ms/step - loss: 0.1375 - accuracy: 0.9511 - val_loss: 0.2896 - val_accuracy: 0.9030\n"
     ]
    }
   ],
   "source": [
    "model_history = model.fit(X_train, Y_train, epochs=30, validation_data=(X_valid, Y_valid))"
   ]
  },
  {
   "cell_type": "code",
   "execution_count": 26,
   "metadata": {},
   "outputs": [
    {
     "data": {
      "text/plain": [
       "{'verbose': 1, 'epochs': 30, 'steps': 1719}"
      ]
     },
     "execution_count": 26,
     "metadata": {},
     "output_type": "execute_result"
    }
   ],
   "source": [
    "model_history.params"
   ]
  },
  {
   "cell_type": "code",
   "execution_count": 27,
   "metadata": {},
   "outputs": [
    {
     "data": {
      "text/plain": [
       "{'loss': [0.7156843543052673,\n",
       "  0.4853636622428894,\n",
       "  0.4412091374397278,\n",
       "  0.4133906960487366,\n",
       "  0.39270833134651184,\n",
       "  0.3766949474811554,\n",
       "  0.3639829456806183,\n",
       "  0.352845162153244,\n",
       "  0.342696875333786,\n",
       "  0.3326345384120941,\n",
       "  0.32378295063972473,\n",
       "  0.31603288650512695,\n",
       "  0.30878695845603943,\n",
       "  0.30244794487953186,\n",
       "  0.2961008846759796,\n",
       "  0.2898692786693573,\n",
       "  0.2840999364852905,\n",
       "  0.2782908082008362,\n",
       "  0.27355635166168213,\n",
       "  0.2681567668914795,\n",
       "  0.26255908608436584,\n",
       "  0.25885438919067383,\n",
       "  0.25431451201438904,\n",
       "  0.24975845217704773,\n",
       "  0.245222270488739,\n",
       "  0.24122807383537292,\n",
       "  0.23713788390159607,\n",
       "  0.23385272920131683,\n",
       "  0.22874493896961212,\n",
       "  0.22567211091518402],\n",
       " 'accuracy': [0.7665636539459229,\n",
       "  0.831890881061554,\n",
       "  0.8460909128189087,\n",
       "  0.8552727103233337,\n",
       "  0.8619818091392517,\n",
       "  0.8674727082252502,\n",
       "  0.8718181848526001,\n",
       "  0.8752727508544922,\n",
       "  0.8777818083763123,\n",
       "  0.8820000290870667,\n",
       "  0.8830363750457764,\n",
       "  0.8857091069221497,\n",
       "  0.8894727230072021,\n",
       "  0.8914363384246826,\n",
       "  0.8942545652389526,\n",
       "  0.8962545394897461,\n",
       "  0.8972727060317993,\n",
       "  0.8997818231582642,\n",
       "  0.9009454250335693,\n",
       "  0.9026363492012024,\n",
       "  0.9046909213066101,\n",
       "  0.9065091013908386,\n",
       "  0.9083636403083801,\n",
       "  0.9095090627670288,\n",
       "  0.9112545251846313,\n",
       "  0.912818193435669,\n",
       "  0.9148363471031189,\n",
       "  0.9160909056663513,\n",
       "  0.9161636233329773,\n",
       "  0.9184545278549194],\n",
       " 'val_loss': [0.5071329474449158,\n",
       "  0.48886600136756897,\n",
       "  0.4252277910709381,\n",
       "  0.4352441430091858,\n",
       "  0.3993619680404663,\n",
       "  0.382590115070343,\n",
       "  0.373302161693573,\n",
       "  0.3617725372314453,\n",
       "  0.37441301345825195,\n",
       "  0.3584262728691101,\n",
       "  0.33632200956344604,\n",
       "  0.3631250262260437,\n",
       "  0.3231290578842163,\n",
       "  0.3263901472091675,\n",
       "  0.3340761959552765,\n",
       "  0.3126290440559387,\n",
       "  0.3114599287509918,\n",
       "  0.3176654279232025,\n",
       "  0.35065439343452454,\n",
       "  0.3226487934589386,\n",
       "  0.33438432216644287,\n",
       "  0.30593428015708923,\n",
       "  0.3061186671257019,\n",
       "  0.30983999371528625,\n",
       "  0.29968908429145813,\n",
       "  0.2941352427005768,\n",
       "  0.2978690564632416,\n",
       "  0.2923763394355774,\n",
       "  0.3126017451286316,\n",
       "  0.3020872175693512],\n",
       " 'val_accuracy': [0.8317999839782715,\n",
       "  0.8241999745368958,\n",
       "  0.855400025844574,\n",
       "  0.8479999899864197,\n",
       "  0.8597999811172485,\n",
       "  0.8668000102043152,\n",
       "  0.8712000250816345,\n",
       "  0.8754000067710876,\n",
       "  0.8672000169754028,\n",
       "  0.875,\n",
       "  0.8804000020027161,\n",
       "  0.8695999979972839,\n",
       "  0.8885999917984009,\n",
       "  0.8866000175476074,\n",
       "  0.8830000162124634,\n",
       "  0.8907999992370605,\n",
       "  0.8863999843597412,\n",
       "  0.8866000175476074,\n",
       "  0.8726000189781189,\n",
       "  0.8849999904632568,\n",
       "  0.8773999810218811,\n",
       "  0.8906000256538391,\n",
       "  0.8912000060081482,\n",
       "  0.8873999714851379,\n",
       "  0.88919997215271,\n",
       "  0.8903999924659729,\n",
       "  0.8960000276565552,\n",
       "  0.8978000283241272,\n",
       "  0.8921999931335449,\n",
       "  0.8880000114440918]}"
      ]
     },
     "execution_count": 27,
     "metadata": {},
     "output_type": "execute_result"
    }
   ],
   "source": [
    "model_history.history"
   ]
  },
  {
   "cell_type": "code",
   "execution_count": 28,
   "metadata": {},
   "outputs": [
    {
     "data": {
      "image/png": "[encoded data removed]",
      "text/plain": [
       "<Figure size 576x360 with 1 Axes>"
      ]
     },
     "metadata": {
      "needs_background": "light"
     },
     "output_type": "display_data"
    }
   ],
   "source": [
    "import pandas as pd\n",
    "\n",
    "pd.DataFrame(model_history.history).plot(figsize=(8,5))\n",
    "plt.grid(True)\n",
    "plt.gca().set_ylim(0,1)\n",
    "plt.show()"
   ]
  },
  {
   "cell_type": "code",
   "execution_count": 31,
   "metadata": {},
   "outputs": [
    {
     "name": "stdout",
     "output_type": "stream",
     "text": [
      "INFO:tensorflow:Assets written to: C:\\maximusRepository\\yeeunPersonal\\onlineCourseCode\\udemyNeuralNetworks\\assets\n"
     ]
    }
   ],
   "source": [
    "#saving Keras model\n",
    "\n",
    "model.save(r'C:\\maximusRepository\\yeeunPersonal\\onlineCourseCode\\udemyNeuralNetworks')"
   ]
  },
  {
   "cell_type": "code",
   "execution_count": null,
   "metadata": {},
   "outputs": [],
   "source": []
  }
 ],
 "metadata": {
  "kernelspec": {
   "display_name": "Python 3.10.1 64-bit",
   "language": "python",
   "name": "python3"
  },
  "language_info": {
   "codemirror_mode": {
    "name": "ipython",
    "version": 3
   },
   "file_extension": ".py",
   "mimetype": "text/x-python",
   "name": "python",
   "nbconvert_exporter": "python",
   "pygments_lexer": "ipython3",
   "version": "3.10.1"
  },
  "orig_nbformat": 4,
  "vscode": {
   "interpreter": {
    "hash": "65c45682600b822032a055cbf04f0dc5abe5e3c026f7225f43ce560cd84c5728"
   }
  }
 },
 "nbformat": 4,
 "nbformat_minor": 2
}
