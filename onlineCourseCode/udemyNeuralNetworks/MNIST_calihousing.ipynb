{
 "cells": [
  {
   "cell_type": "code",
   "execution_count": 2,
   "metadata": {},
   "outputs": [],
   "source": [
    "#import initial libraries\n",
    "\n",
    "import pandas as pd\n",
    "import numpy as np\n",
    "import matplotlib as mpl\n",
    "import matplotlib.pyplot as plt"
   ]
  },
  {
   "cell_type": "code",
   "execution_count": 3,
   "metadata": {},
   "outputs": [],
   "source": [
    "#importing ML stuff\n",
    "\n",
    "import tensorflow as tf\n",
    "from tensorflow import keras"
   ]
  },
  {
   "cell_type": "code",
   "execution_count": 4,
   "metadata": {},
   "outputs": [
    {
     "data": {
      "text/plain": [
       "['DESCR', 'data', 'feature_names', 'frame', 'target', 'target_names']"
      ]
     },
     "execution_count": 4,
     "metadata": {},
     "output_type": "execute_result"
    }
   ],
   "source": [
    "#downloading the dataset\n",
    "\n",
    "from sklearn.datasets import fetch_california_housing\n",
    "housing = fetch_california_housing()\n",
    "\n",
    "dir(housing)"
   ]
  },
  {
   "cell_type": "markdown",
   "metadata": {},
   "source": [
    "##### Data Information"
   ]
  },
  {
   "cell_type": "markdown",
   "metadata": {},
   "source": [
    "California Housing dataset\n",
    "--------------------------\n",
    "\n",
    "**Data Set Characteristics:**\n",
    "\n",
    "    :Number of Instances: 20640\n",
    "\n",
    "    :Number of Attributes: 8 numeric, predictive attributes and the target\n",
    "\n",
    "    :Attribute Information:\n",
    "        - MedInc        median income in block group\n",
    "        - HouseAge      median house age in block group\n",
    "        - AveRooms      average number of rooms per household\n",
    "        - AveBedrms     average number of bedrooms per household\n",
    "        - Population    block group population\n",
    "        - AveOccup      average number of household members\n",
    "        - Latitude      block group latitude\n",
    "        - Longitude     block group longitude\n",
    "\n",
    "    :Missing Attribute Values: None\n",
    "\n",
    "This dataset was obtained from the StatLib repository.\n",
    "https://www.dcc.fc.up.pt/~ltorgo/Regression/cal_housing.html\n",
    "\n",
    "The target variable is the median house value for California districts,\n",
    "expressed in hundreds of thousands of dollars ($100,000).\n",
    "\n",
    "This dataset was derived from the 1990 U.S. census, using one row per census\n",
    "block group. A block group is the smallest geographical unit for which the U.S.\n",
    "Census Bureau publishes sample data (a block group typically has a population\n",
    "of 600 to 3,000 people).\n",
    "\n",
    "An household is a group of people residing within a home. Since the average\n",
    "number of rooms and bedrooms in this dataset are provided per household, these\n",
    "columns may take surpinsingly large values for block groups with few households\n",
    "and many empty houses, such as vacation resorts.\n",
    "\n",
    "It can be downloaded/loaded using the\n",
    ":func:`sklearn.datasets.fetch_california_housing` function."
   ]
  },
  {
   "cell_type": "markdown",
   "metadata": {},
   "source": [
    "##### Moving on,\n",
    "##### Also kind of important, the goal is to predict the value of a house."
   ]
  },
  {
   "cell_type": "code",
   "execution_count": 5,
   "metadata": {},
   "outputs": [
    {
     "data": {
      "text/plain": [
       "['MedInc',\n",
       " 'HouseAge',\n",
       " 'AveRooms',\n",
       " 'AveBedrms',\n",
       " 'Population',\n",
       " 'AveOccup',\n",
       " 'Latitude',\n",
       " 'Longitude']"
      ]
     },
     "execution_count": 5,
     "metadata": {},
     "output_type": "execute_result"
    }
   ],
   "source": [
    "fetch_california_housing().feature_names"
   ]
  },
  {
   "cell_type": "code",
   "execution_count": 6,
   "metadata": {},
   "outputs": [],
   "source": [
    "from sklearn.model_selection import train_test_split\n",
    "X_data_full, X_test, y_data_full, y_test = train_test_split(housing.data, housing.target, random_state=42)\n",
    "X_train, X_valid, y_train, y_valid = train_test_split(X_data_full, y_data_full, random_state=42)"
   ]
  },
  {
   "cell_type": "code",
   "execution_count": 7,
   "metadata": {},
   "outputs": [],
   "source": [
    "#Standardization of Variables\n",
    "#Subtracting the individual values with mean then dividing by variance \n",
    "# (X - avg) / Variance \n",
    "\n",
    "from sklearn.preprocessing import StandardScaler\n",
    "scaler = StandardScaler()\n",
    "X_train = scaler.fit_transform(X_train)\n",
    "X_valid = scaler.transform(X_valid)\n",
    "X_test = scaler.transform(X_test)"
   ]
  },
  {
   "cell_type": "code",
   "execution_count": 8,
   "metadata": {},
   "outputs": [],
   "source": [
    "np.random.seed(42)\n",
    "tf.random.set_seed(42)"
   ]
  },
  {
   "cell_type": "code",
   "execution_count": 9,
   "metadata": {},
   "outputs": [
    {
     "data": {
      "text/plain": [
       "(5160, 8)"
      ]
     },
     "execution_count": 9,
     "metadata": {},
     "output_type": "execute_result"
    }
   ],
   "source": [
    "X_test.shape"
   ]
  },
  {
   "cell_type": "code",
   "execution_count": 10,
   "metadata": {},
   "outputs": [],
   "source": [
    "model = keras.models.Sequential([\n",
    "    keras.layers.Dense(30, activation=\"relu\", input_shape = [8]),\n",
    "    keras.layers.Dense(30, activation=\"relu\"),\n",
    "    keras.layers.Dense(1)\n",
    "])"
   ]
  },
  {
   "cell_type": "code",
   "execution_count": 11,
   "metadata": {},
   "outputs": [
    {
     "name": "stdout",
     "output_type": "stream",
     "text": [
      "Model: \"sequential\"\n",
      "_________________________________________________________________\n",
      " Layer (type)                Output Shape              Param #   \n",
      "=================================================================\n",
      " dense (Dense)               (None, 30)                270       \n",
      "                                                                 \n",
      " dense_1 (Dense)             (None, 30)                930       \n",
      "                                                                 \n",
      " dense_2 (Dense)             (None, 1)                 31        \n",
      "                                                                 \n",
      "=================================================================\n",
      "Total params: 1,231\n",
      "Trainable params: 1,231\n",
      "Non-trainable params: 0\n",
      "_________________________________________________________________\n"
     ]
    }
   ],
   "source": [
    "model.summary()"
   ]
  },
  {
   "cell_type": "code",
   "execution_count": 12,
   "metadata": {},
   "outputs": [],
   "source": [
    "model.compile(loss = \"mean_squared_error\", optimizer=keras.optimizers.SGD(learning_rate=1e-3),metrics=['mae'])"
   ]
  },
  {
   "cell_type": "code",
   "execution_count": 13,
   "metadata": {},
   "outputs": [
    {
     "name": "stdout",
     "output_type": "stream",
     "text": [
      "Epoch 1/20\n",
      "363/363 [==============================] - 2s 3ms/step - loss: 1.8866 - mae: 0.9900 - val_loss: 0.7126 - val_mae: 0.6368\n",
      "Epoch 2/20\n",
      "363/363 [==============================] - 1s 2ms/step - loss: 0.6577 - mae: 0.6042 - val_loss: 0.6880 - val_mae: 0.5704\n",
      "Epoch 3/20\n",
      "363/363 [==============================] - 1s 2ms/step - loss: 0.5934 - mae: 0.5618 - val_loss: 0.5803 - val_mae: 0.5352\n",
      "Epoch 4/20\n",
      "363/363 [==============================] - 1s 2ms/step - loss: 0.5557 - mae: 0.5398 - val_loss: 0.5166 - val_mae: 0.5207\n",
      "Epoch 5/20\n",
      "363/363 [==============================] - 1s 2ms/step - loss: 0.5272 - mae: 0.5237 - val_loss: 0.4895 - val_mae: 0.5022\n",
      "Epoch 6/20\n",
      "363/363 [==============================] - 1s 2ms/step - loss: 0.5033 - mae: 0.5113 - val_loss: 0.4951 - val_mae: 0.4934\n",
      "Epoch 7/20\n",
      "363/363 [==============================] - 1s 2ms/step - loss: 0.4854 - mae: 0.5010 - val_loss: 0.4861 - val_mae: 0.4838\n",
      "Epoch 8/20\n",
      "363/363 [==============================] - 1s 4ms/step - loss: 0.4709 - mae: 0.4924 - val_loss: 0.4554 - val_mae: 0.4753\n",
      "Epoch 9/20\n",
      "363/363 [==============================] - 1s 3ms/step - loss: 0.4578 - mae: 0.4857 - val_loss: 0.4413 - val_mae: 0.4671\n",
      "Epoch 10/20\n",
      "363/363 [==============================] - 1s 3ms/step - loss: 0.4474 - mae: 0.4797 - val_loss: 0.4379 - val_mae: 0.4623\n",
      "Epoch 11/20\n",
      "363/363 [==============================] - 1s 2ms/step - loss: 0.4393 - mae: 0.4744 - val_loss: 0.4396 - val_mae: 0.4638\n",
      "Epoch 12/20\n",
      "363/363 [==============================] - 1s 2ms/step - loss: 0.4318 - mae: 0.4703 - val_loss: 0.4507 - val_mae: 0.4573\n",
      "Epoch 13/20\n",
      "363/363 [==============================] - 1s 2ms/step - loss: 0.4261 - mae: 0.4674 - val_loss: 0.3997 - val_mae: 0.4517\n",
      "Epoch 14/20\n",
      "363/363 [==============================] - 1s 2ms/step - loss: 0.4202 - mae: 0.4636 - val_loss: 0.3956 - val_mae: 0.4497\n",
      "Epoch 15/20\n",
      "363/363 [==============================] - 1s 2ms/step - loss: 0.4155 - mae: 0.4613 - val_loss: 0.3916 - val_mae: 0.4464\n",
      "Epoch 16/20\n",
      "363/363 [==============================] - 1s 2ms/step - loss: 0.4112 - mae: 0.4591 - val_loss: 0.3937 - val_mae: 0.4445\n",
      "Epoch 17/20\n",
      "363/363 [==============================] - 1s 2ms/step - loss: 0.4077 - mae: 0.4569 - val_loss: 0.3809 - val_mae: 0.4390\n",
      "Epoch 18/20\n",
      "363/363 [==============================] - 1s 2ms/step - loss: 0.4040 - mae: 0.4545 - val_loss: 0.3793 - val_mae: 0.4368\n",
      "Epoch 19/20\n",
      "363/363 [==============================] - 1s 2ms/step - loss: 0.4004 - mae: 0.4521 - val_loss: 0.3850 - val_mae: 0.4369\n",
      "Epoch 20/20\n",
      "363/363 [==============================] - 1s 2ms/step - loss: 0.3980 - mae: 0.4508 - val_loss: 0.3809 - val_mae: 0.4368\n"
     ]
    }
   ],
   "source": [
    "model_history = model.fit(X_train, y_train, epochs = 20, validation_data = (X_valid, y_valid))"
   ]
  },
  {
   "cell_type": "code",
   "execution_count": 14,
   "metadata": {},
   "outputs": [
    {
     "name": "stdout",
     "output_type": "stream",
     "text": [
      "162/162 [==============================] - 0s 2ms/step - loss: 0.3942 - mae: 0.4502\n"
     ]
    }
   ],
   "source": [
    "mae_test = model.evaluate(X_test, y_test)"
   ]
  },
  {
   "cell_type": "code",
   "execution_count": 15,
   "metadata": {},
   "outputs": [
    {
     "data": {
      "text/plain": [
       "{'loss': [1.8866397142410278,\n",
       "  0.6577126979827881,\n",
       "  0.593418538570404,\n",
       "  0.5557191371917725,\n",
       "  0.5271905064582825,\n",
       "  0.5032975673675537,\n",
       "  0.48535555601119995,\n",
       "  0.47091811895370483,\n",
       "  0.45779937505722046,\n",
       "  0.4474469721317291,\n",
       "  0.4393136501312256,\n",
       "  0.43176087737083435,\n",
       "  0.42605164647102356,\n",
       "  0.42017653584480286,\n",
       "  0.41549983620643616,\n",
       "  0.41116511821746826,\n",
       "  0.4077068567276001,\n",
       "  0.40395283699035645,\n",
       "  0.4004494547843933,\n",
       "  0.39796027541160583],\n",
       " 'mae': [0.9900256991386414,\n",
       "  0.6041509509086609,\n",
       "  0.5618005990982056,\n",
       "  0.5398454070091248,\n",
       "  0.5237293839454651,\n",
       "  0.5112563967704773,\n",
       "  0.5010153651237488,\n",
       "  0.492448091506958,\n",
       "  0.4857262969017029,\n",
       "  0.4797375202178955,\n",
       "  0.4744163453578949,\n",
       "  0.4703480303287506,\n",
       "  0.46740883588790894,\n",
       "  0.46360209584236145,\n",
       "  0.461266428232193,\n",
       "  0.4591343402862549,\n",
       "  0.4568699896335602,\n",
       "  0.4545365273952484,\n",
       "  0.4521064758300781,\n",
       "  0.45083147287368774],\n",
       " 'val_loss': [0.7126054763793945,\n",
       "  0.6880088448524475,\n",
       "  0.5803285837173462,\n",
       "  0.5166085362434387,\n",
       "  0.4895075857639313,\n",
       "  0.49507930874824524,\n",
       "  0.4861254394054413,\n",
       "  0.4553801119327545,\n",
       "  0.4413370192050934,\n",
       "  0.43786391615867615,\n",
       "  0.4396444261074066,\n",
       "  0.45066899061203003,\n",
       "  0.39972350001335144,\n",
       "  0.39558932185173035,\n",
       "  0.3915725648403168,\n",
       "  0.3936830461025238,\n",
       "  0.38094857335090637,\n",
       "  0.37934762239456177,\n",
       "  0.3850175738334656,\n",
       "  0.380946546792984],\n",
       " 'val_mae': [0.6368111968040466,\n",
       "  0.5703656673431396,\n",
       "  0.5351505279541016,\n",
       "  0.5206613540649414,\n",
       "  0.5022227168083191,\n",
       "  0.4933752417564392,\n",
       "  0.4838489294052124,\n",
       "  0.47527745366096497,\n",
       "  0.4670593738555908,\n",
       "  0.46234598755836487,\n",
       "  0.4637792706489563,\n",
       "  0.4572650194168091,\n",
       "  0.45166537165641785,\n",
       "  0.4496610760688782,\n",
       "  0.446370005607605,\n",
       "  0.4444962441921234,\n",
       "  0.43897414207458496,\n",
       "  0.43681108951568604,\n",
       "  0.4369049370288849,\n",
       "  0.4367615878582001]}"
      ]
     },
     "execution_count": 15,
     "metadata": {},
     "output_type": "execute_result"
    }
   ],
   "source": [
    "model_history.history"
   ]
  },
  {
   "cell_type": "code",
   "execution_count": 16,
   "metadata": {},
   "outputs": [
    {
     "data": {
      "image/png": "[encoded data removed]",
      "text/plain": [
       "<Figure size 576x360 with 1 Axes>"
      ]
     },
     "metadata": {
      "needs_background": "light"
     },
     "output_type": "display_data"
    }
   ],
   "source": [
    "pd.DataFrame(model_history.history).plot(figsize=(8,5))\n",
    "plt.grid(True)\n",
    "plt.gca().set_ylim(0,1)\n",
    "\n",
    "plt.show()"
   ]
  },
  {
   "cell_type": "code",
   "execution_count": 17,
   "metadata": {},
   "outputs": [],
   "source": [
    "X_small = X_test[:3]"
   ]
  },
  {
   "cell_type": "code",
   "execution_count": 18,
   "metadata": {},
   "outputs": [
    {
     "name": "stdout",
     "output_type": "stream",
     "text": [
      "1/1 [==============================] - 0s 240ms/step\n",
      "[[0.53287673]\n",
      " [1.8915396 ]\n",
      " [3.4040868 ]]\n"
     ]
    }
   ],
   "source": [
    "y_pred = model.predict(X_small)\n",
    "print(y_pred)"
   ]
  },
  {
   "cell_type": "code",
   "execution_count": 19,
   "metadata": {},
   "outputs": [],
   "source": [
    "model.save('californiahousing.h5')"
   ]
  },
  {
   "cell_type": "markdown",
   "metadata": {},
   "source": [
    "Functional API way of arranging the machine learning model"
   ]
  },
  {
   "cell_type": "code",
   "execution_count": 31,
   "metadata": {},
   "outputs": [
    {
     "ename": "NameError",
     "evalue": "name 'model' is not defined",
     "output_type": "error",
     "traceback": [
      "\u001b[1;31m---------------------------------------------------------------------------\u001b[0m",
      "\u001b[1;31mNameError\u001b[0m                                 Traceback (most recent call last)",
      "\u001b[1;32m~\\AppData\\Local\\Temp/ipykernel_18296/1714421125.py\u001b[0m in \u001b[0;36m<module>\u001b[1;34m\u001b[0m\n\u001b[0;32m      1\u001b[0m \u001b[1;31m#Mandartory Break\u001b[0m\u001b[1;33m\u001b[0m\u001b[1;33m\u001b[0m\u001b[0m\n\u001b[0;32m      2\u001b[0m \u001b[1;33m\u001b[0m\u001b[0m\n\u001b[1;32m----> 3\u001b[1;33m \u001b[1;32mdel\u001b[0m \u001b[0mmodel\u001b[0m\u001b[1;33m\u001b[0m\u001b[1;33m\u001b[0m\u001b[0m\n\u001b[0m\u001b[0;32m      4\u001b[0m \u001b[1;33m\u001b[0m\u001b[0m\n\u001b[0;32m      5\u001b[0m \u001b[0mkeras\u001b[0m\u001b[1;33m.\u001b[0m\u001b[0mbackend\u001b[0m\u001b[1;33m.\u001b[0m\u001b[0mclear_session\u001b[0m\u001b[1;33m(\u001b[0m\u001b[1;33m)\u001b[0m\u001b[1;33m\u001b[0m\u001b[1;33m\u001b[0m\u001b[0m\n",
      "\u001b[1;31mNameError\u001b[0m: name 'model' is not defined"
     ]
    }
   ],
   "source": [
    "#Mandartory Break\n",
    "\n",
    "del model\n",
    "\n",
    "keras.backend.clear_session()"
   ]
  },
  {
   "cell_type": "code",
   "execution_count": 32,
   "metadata": {},
   "outputs": [],
   "source": [
    "input_ = keras.layers.Input(shape=X_train.shape[1:])\n",
    "hidden1 = keras.layers.Dense(30, activation=\"relu\")(input_)\n",
    "hidden2 = keras.layers.Dense(30, activation=\"relu\")(hidden1)\n",
    "concat = keras.layers.concatenate([input_, hidden2])\n",
    "output = keras.layers.Dense(1)(concat)\n",
    "\n",
    "model = keras.models.Model(inputs=[input_], outputs = [output])"
   ]
  },
  {
   "cell_type": "code",
   "execution_count": 33,
   "metadata": {},
   "outputs": [
    {
     "name": "stdout",
     "output_type": "stream",
     "text": [
      "Model: \"model\"\n",
      "__________________________________________________________________________________________________\n",
      " Layer (type)                   Output Shape         Param #     Connected to                     \n",
      "==================================================================================================\n",
      " input_1 (InputLayer)           [(None, 8)]          0           []                               \n",
      "                                                                                                  \n",
      " dense (Dense)                  (None, 30)           270         ['input_1[0][0]']                \n",
      "                                                                                                  \n",
      " dense_1 (Dense)                (None, 30)           930         ['dense[0][0]']                  \n",
      "                                                                                                  \n",
      " concatenate (Concatenate)      (None, 38)           0           ['input_1[0][0]',                \n",
      "                                                                  'dense_1[0][0]']                \n",
      "                                                                                                  \n",
      " dense_2 (Dense)                (None, 1)            39          ['concatenate[0][0]']            \n",
      "                                                                                                  \n",
      "==================================================================================================\n",
      "Total params: 1,239\n",
      "Trainable params: 1,239\n",
      "Non-trainable params: 0\n",
      "__________________________________________________________________________________________________\n"
     ]
    }
   ],
   "source": [
    "model.summary()"
   ]
  },
  {
   "cell_type": "code",
   "execution_count": 34,
   "metadata": {},
   "outputs": [],
   "source": [
    "model.compile(loss=\"mean_squared_error\", optimizer=keras.optimizers.SGD(learning_rate=1e-3), metrics=['mae'])"
   ]
  },
  {
   "cell_type": "code",
   "execution_count": 35,
   "metadata": {},
   "outputs": [
    {
     "name": "stdout",
     "output_type": "stream",
     "text": [
      "Epoch 1/50\n",
      "363/363 [==============================] - 1s 2ms/step - loss: 1.5051 - mae: 0.8803 - val_loss: 8.0610 - val_mae: 0.7193\n",
      "Epoch 2/50\n",
      "363/363 [==============================] - 1s 2ms/step - loss: 0.8682 - mae: 0.6665 - val_loss: 2.1156 - val_mae: 0.6524\n",
      "Epoch 3/50\n",
      "363/363 [==============================] - 1s 2ms/step - loss: 0.7151 - mae: 0.6138 - val_loss: 1.8516 - val_mae: 0.6129\n",
      "Epoch 4/50\n",
      "363/363 [==============================] - 1s 2ms/step - loss: 0.6811 - mae: 0.5989 - val_loss: 0.9023 - val_mae: 0.5845\n",
      "Epoch 5/50\n",
      "363/363 [==============================] - 1s 2ms/step - loss: 0.6295 - mae: 0.5756 - val_loss: 0.6122 - val_mae: 0.5545\n",
      "Epoch 6/50\n",
      "363/363 [==============================] - 1s 2ms/step - loss: 0.5973 - mae: 0.5603 - val_loss: 0.6409 - val_mae: 0.5416\n",
      "Epoch 7/50\n",
      "363/363 [==============================] - 1s 2ms/step - loss: 0.5743 - mae: 0.5485 - val_loss: 0.5588 - val_mae: 0.5264\n",
      "Epoch 8/50\n",
      "363/363 [==============================] - 1s 2ms/step - loss: 0.5540 - mae: 0.5369 - val_loss: 0.7857 - val_mae: 0.5304\n",
      "Epoch 9/50\n",
      "363/363 [==============================] - 1s 2ms/step - loss: 0.5312 - mae: 0.5260 - val_loss: 0.5917 - val_mae: 0.5080\n",
      "Epoch 10/50\n",
      "363/363 [==============================] - 1s 2ms/step - loss: 0.5159 - mae: 0.5183 - val_loss: 0.5138 - val_mae: 0.4968\n",
      "Epoch 11/50\n",
      "363/363 [==============================] - 1s 2ms/step - loss: 0.5020 - mae: 0.5085 - val_loss: 1.1085 - val_mae: 0.5290\n",
      "Epoch 12/50\n",
      "363/363 [==============================] - 1s 2ms/step - loss: 0.4887 - mae: 0.5017 - val_loss: 1.0064 - val_mae: 0.4970\n",
      "Epoch 13/50\n",
      "363/363 [==============================] - 1s 2ms/step - loss: 0.4847 - mae: 0.5005 - val_loss: 0.5415 - val_mae: 0.4835\n",
      "Epoch 14/50\n",
      "363/363 [==============================] - 1s 2ms/step - loss: 0.4668 - mae: 0.4910 - val_loss: 0.4407 - val_mae: 0.4733\n",
      "Epoch 15/50\n",
      "363/363 [==============================] - 2s 5ms/step - loss: 0.4589 - mae: 0.4875 - val_loss: 0.5011 - val_mae: 0.4728\n",
      "Epoch 16/50\n",
      "363/363 [==============================] - 1s 2ms/step - loss: 0.4497 - mae: 0.4819 - val_loss: 0.4647 - val_mae: 0.4677\n",
      "Epoch 17/50\n",
      "363/363 [==============================] - 1s 2ms/step - loss: 0.4452 - mae: 0.4802 - val_loss: 0.5200 - val_mae: 0.4668\n",
      "Epoch 18/50\n",
      "363/363 [==============================] - 1s 4ms/step - loss: 0.4370 - mae: 0.4754 - val_loss: 0.4409 - val_mae: 0.4578\n",
      "Epoch 19/50\n",
      "363/363 [==============================] - 2s 5ms/step - loss: 0.4306 - mae: 0.4713 - val_loss: 0.4166 - val_mae: 0.4538\n",
      "Epoch 20/50\n",
      "363/363 [==============================] - 1s 2ms/step - loss: 0.4269 - mae: 0.4699 - val_loss: 0.4645 - val_mae: 0.4568\n",
      "Epoch 21/50\n",
      "363/363 [==============================] - 1s 2ms/step - loss: 0.4213 - mae: 0.4662 - val_loss: 0.3964 - val_mae: 0.4527\n",
      "Epoch 22/50\n",
      "363/363 [==============================] - 1s 2ms/step - loss: 0.4177 - mae: 0.4652 - val_loss: 0.4789 - val_mae: 0.4553\n",
      "Epoch 23/50\n",
      "363/363 [==============================] - 1s 2ms/step - loss: 0.4137 - mae: 0.4628 - val_loss: 0.3892 - val_mae: 0.4417\n",
      "Epoch 24/50\n",
      "363/363 [==============================] - 1s 2ms/step - loss: 0.4102 - mae: 0.4604 - val_loss: 0.4516 - val_mae: 0.4475\n",
      "Epoch 25/50\n",
      "363/363 [==============================] - 1s 2ms/step - loss: 0.4072 - mae: 0.4587 - val_loss: 0.3961 - val_mae: 0.4431\n",
      "Epoch 26/50\n",
      "363/363 [==============================] - 1s 2ms/step - loss: 0.4043 - mae: 0.4573 - val_loss: 0.4416 - val_mae: 0.4447\n",
      "Epoch 27/50\n",
      "363/363 [==============================] - 1s 2ms/step - loss: 0.4020 - mae: 0.4560 - val_loss: 0.4087 - val_mae: 0.4399\n",
      "Epoch 28/50\n",
      "363/363 [==============================] - 1s 2ms/step - loss: 0.3996 - mae: 0.4546 - val_loss: 0.4547 - val_mae: 0.4460\n",
      "Epoch 29/50\n",
      "363/363 [==============================] - 1s 2ms/step - loss: 0.3973 - mae: 0.4530 - val_loss: 0.3728 - val_mae: 0.4383\n",
      "Epoch 30/50\n",
      "363/363 [==============================] - 1s 2ms/step - loss: 0.3948 - mae: 0.4521 - val_loss: 0.4568 - val_mae: 0.4414\n",
      "Epoch 31/50\n",
      "363/363 [==============================] - 1s 2ms/step - loss: 0.3935 - mae: 0.4506 - val_loss: 0.3797 - val_mae: 0.4349\n",
      "Epoch 32/50\n",
      "363/363 [==============================] - 1s 2ms/step - loss: 0.3909 - mae: 0.4497 - val_loss: 0.5526 - val_mae: 0.4463\n",
      "Epoch 33/50\n",
      "363/363 [==============================] - 1s 2ms/step - loss: 0.3903 - mae: 0.4483 - val_loss: 0.3984 - val_mae: 0.4372\n",
      "Epoch 34/50\n",
      "363/363 [==============================] - 1s 2ms/step - loss: 0.3873 - mae: 0.4478 - val_loss: 0.4070 - val_mae: 0.4360\n",
      "Epoch 35/50\n",
      "363/363 [==============================] - 1s 2ms/step - loss: 0.3855 - mae: 0.4461 - val_loss: 0.4155 - val_mae: 0.4370\n",
      "Epoch 36/50\n",
      "363/363 [==============================] - 1s 2ms/step - loss: 0.3839 - mae: 0.4454 - val_loss: 0.4051 - val_mae: 0.4308\n",
      "Epoch 37/50\n",
      "363/363 [==============================] - 1s 2ms/step - loss: 0.3824 - mae: 0.4440 - val_loss: 0.4095 - val_mae: 0.4342\n",
      "Epoch 38/50\n",
      "363/363 [==============================] - 1s 2ms/step - loss: 0.3808 - mae: 0.4433 - val_loss: 0.3637 - val_mae: 0.4282\n",
      "Epoch 39/50\n",
      "363/363 [==============================] - 1s 2ms/step - loss: 0.3791 - mae: 0.4425 - val_loss: 0.3572 - val_mae: 0.4261\n",
      "Epoch 40/50\n",
      "363/363 [==============================] - 1s 2ms/step - loss: 0.3776 - mae: 0.4415 - val_loss: 0.3561 - val_mae: 0.4239\n",
      "Epoch 41/50\n",
      "363/363 [==============================] - 1s 2ms/step - loss: 0.3764 - mae: 0.4404 - val_loss: 0.3752 - val_mae: 0.4277\n",
      "Epoch 42/50\n",
      "363/363 [==============================] - 1s 2ms/step - loss: 0.3753 - mae: 0.4401 - val_loss: 0.3791 - val_mae: 0.4255\n",
      "Epoch 43/50\n",
      "363/363 [==============================] - 1s 2ms/step - loss: 0.3736 - mae: 0.4385 - val_loss: 0.4151 - val_mae: 0.4284\n",
      "Epoch 44/50\n",
      "363/363 [==============================] - 1s 3ms/step - loss: 0.3731 - mae: 0.4379 - val_loss: 0.3770 - val_mae: 0.4290\n",
      "Epoch 45/50\n",
      "363/363 [==============================] - 1s 4ms/step - loss: 0.3719 - mae: 0.4378 - val_loss: 0.3501 - val_mae: 0.4206\n",
      "Epoch 46/50\n",
      "363/363 [==============================] - 2s 4ms/step - loss: 0.3701 - mae: 0.4360 - val_loss: 0.4115 - val_mae: 0.4273\n",
      "Epoch 47/50\n",
      "363/363 [==============================] - 1s 3ms/step - loss: 0.3696 - mae: 0.4363 - val_loss: 0.3494 - val_mae: 0.4189\n",
      "Epoch 48/50\n",
      "363/363 [==============================] - 1s 2ms/step - loss: 0.3680 - mae: 0.4348 - val_loss: 0.4731 - val_mae: 0.4289\n",
      "Epoch 49/50\n",
      "363/363 [==============================] - 1s 2ms/step - loss: 0.3691 - mae: 0.4345 - val_loss: 0.4005 - val_mae: 0.4256\n",
      "Epoch 50/50\n",
      "363/363 [==============================] - 1s 2ms/step - loss: 0.3667 - mae: 0.4343 - val_loss: 0.3510 - val_mae: 0.4188\n"
     ]
    }
   ],
   "source": [
    "model_history = model.fit(X_train, y_train, epochs = 50, validation_data = (X_valid, y_valid))"
   ]
  },
  {
   "cell_type": "code",
   "execution_count": 36,
   "metadata": {},
   "outputs": [
    {
     "data": {
      "image/png": "[encoded data removed]",
      "text/plain": [
       "<Figure size 576x360 with 1 Axes>"
      ]
     },
     "metadata": {
      "needs_background": "light"
     },
     "output_type": "display_data"
    }
   ],
   "source": [
    "pd.DataFrame(model_history.history).plot(figsize = (8, 5))\n",
    "plt.grid(True)\n",
    "plt.gca().set_ylim(0, 1)\n",
    "\n",
    "plt.show()"
   ]
  },
  {
   "cell_type": "code",
   "execution_count": 37,
   "metadata": {},
   "outputs": [
    {
     "name": "stdout",
     "output_type": "stream",
     "text": [
      "162/162 [==============================] - 0s 2ms/step - loss: 0.3653 - mae: 0.4317\n"
     ]
    }
   ],
   "source": [
    "mae_test = model.evaluate(X_test, y_test)"
   ]
  },
  {
   "cell_type": "code",
   "execution_count": null,
   "metadata": {},
   "outputs": [],
   "source": [
    "model.save(\"functionalapi.h5\")"
   ]
  },
  {
   "cell_type": "markdown",
   "metadata": {},
   "source": [
    "#### Saving and Restoring Models"
   ]
  },
  {
   "cell_type": "code",
   "execution_count": null,
   "metadata": {},
   "outputs": [],
   "source": []
  }
 ],
 "metadata": {
  "kernelspec": {
   "display_name": "Python 3.10.1 64-bit",
   "language": "python",
   "name": "python3"
  },
  "language_info": {
   "codemirror_mode": {
    "name": "ipython",
    "version": 3
   },
   "file_extension": ".py",
   "mimetype": "text/x-python",
   "name": "python",
   "nbconvert_exporter": "python",
   "pygments_lexer": "ipython3",
   "version": "3.10.1"
  },
  "orig_nbformat": 4,
  "vscode": {
   "interpreter": {
    "hash": "65c45682600b822032a055cbf04f0dc5abe5e3c026f7225f43ce560cd84c5728"
   }
  }
 },
 "nbformat": 4,
 "nbformat_minor": 2
}
